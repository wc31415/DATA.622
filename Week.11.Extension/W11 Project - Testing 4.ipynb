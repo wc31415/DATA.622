{
 "cells": [
  {
   "cell_type": "code",
   "execution_count": 1,
   "metadata": {
    "collapsed": false
   },
   "outputs": [
    {
     "name": "stderr",
     "output_type": "stream",
     "text": [
      "Using Theano backend.\n"
     ]
    },
    {
     "data": {
      "text/html": [
       "<div style=\"max-height:1000px;max-width:1500px;overflow:auto;\">\n",
       "<table border=\"1\" class=\"dataframe\">\n",
       "  <thead>\n",
       "    <tr style=\"text-align: right;\">\n",
       "      <th></th>\n",
       "      <th>emotion</th>\n",
       "      <th>emotionCnt</th>\n",
       "    </tr>\n",
       "  </thead>\n",
       "  <tbody>\n",
       "    <tr>\n",
       "      <th>0</th>\n",
       "      <td>     anger</td>\n",
       "      <td>  252</td>\n",
       "    </tr>\n",
       "    <tr>\n",
       "      <th>1</th>\n",
       "      <td>  surprise</td>\n",
       "      <td>  368</td>\n",
       "    </tr>\n",
       "    <tr>\n",
       "      <th>2</th>\n",
       "      <td>   disgust</td>\n",
       "      <td>  208</td>\n",
       "    </tr>\n",
       "    <tr>\n",
       "      <th>3</th>\n",
       "      <td>      fear</td>\n",
       "      <td>   21</td>\n",
       "    </tr>\n",
       "    <tr>\n",
       "      <th>4</th>\n",
       "      <td>   neutral</td>\n",
       "      <td> 6868</td>\n",
       "    </tr>\n",
       "    <tr>\n",
       "      <th>5</th>\n",
       "      <td> happiness</td>\n",
       "      <td> 5696</td>\n",
       "    </tr>\n",
       "    <tr>\n",
       "      <th>6</th>\n",
       "      <td>   sadness</td>\n",
       "      <td>  268</td>\n",
       "    </tr>\n",
       "    <tr>\n",
       "      <th>7</th>\n",
       "      <td>  contempt</td>\n",
       "      <td>    9</td>\n",
       "    </tr>\n",
       "  </tbody>\n",
       "</table>\n",
       "<p>8 rows × 2 columns</p>\n",
       "</div>"
      ],
      "text/plain": [
       "     emotion  emotionCnt\n",
       "0      anger         252\n",
       "1   surprise         368\n",
       "2    disgust         208\n",
       "3       fear          21\n",
       "4    neutral        6868\n",
       "5  happiness        5696\n",
       "6    sadness         268\n",
       "7   contempt           9\n",
       "\n",
       "[8 rows x 2 columns]"
      ]
     },
     "execution_count": 1,
     "metadata": {},
     "output_type": "execute_result"
    }
   ],
   "source": [
    "import os\n",
    "import pandas as pd\n",
    "import math\n",
    "from keras.preprocessing.image import ImageDataGenerator, img_to_array, load_img\n",
    "\n",
    "# read in images and legend\n",
    "imagesDir = \"/root/sharedfolder/images\"\n",
    "images = os.listdir(imagesDir)\n",
    "legend = pd.read_csv(\"/root/sharedfolder/data/legend.csv\")\n",
    "\n",
    "# convert all emotions classifications to lower-case\n",
    "legend.emotion = legend['emotion'].str.lower()\n",
    "\n",
    "# get count of each emotion\n",
    "anger = legend.emotion.value_counts()['anger']\n",
    "surprise = legend.emotion.value_counts()['surprise']\n",
    "disgust = legend.emotion.value_counts()['disgust']\n",
    "fear = legend.emotion.value_counts()['fear']\n",
    "neutral = legend.emotion.value_counts()['neutral']\n",
    "happiness = legend.emotion.value_counts()['happiness']\n",
    "sadness = legend.emotion.value_counts()['sadness']\n",
    "contempt = legend.emotion.value_counts()['contempt']\n",
    "\n",
    "legendCnt = pd.DataFrame({\n",
    "        'emotion': legend.emotion.unique(),\n",
    "        'emotionCnt': (anger, surprise, disgust, fear,\n",
    "                       neutral, happiness, sadness, contempt) })\n",
    "\n",
    "legendCnt"
   ]
  },
  {
   "cell_type": "code",
   "execution_count": 2,
   "metadata": {
    "collapsed": false
   },
   "outputs": [
    {
     "data": {
      "text/html": [
       "<div style=\"max-height:1000px;max-width:1500px;overflow:auto;\">\n",
       "<table border=\"1\" class=\"dataframe\">\n",
       "  <thead>\n",
       "    <tr style=\"text-align: right;\">\n",
       "      <th></th>\n",
       "      <th>emotion</th>\n",
       "      <th>emotionCnt</th>\n",
       "      <th>trans</th>\n",
       "      <th>transCnt</th>\n",
       "    </tr>\n",
       "  </thead>\n",
       "  <tbody>\n",
       "    <tr>\n",
       "      <th>0</th>\n",
       "      <td>     anger</td>\n",
       "      <td>  252</td>\n",
       "      <td>  24</td>\n",
       "      <td> 6048</td>\n",
       "    </tr>\n",
       "    <tr>\n",
       "      <th>1</th>\n",
       "      <td>  surprise</td>\n",
       "      <td>  368</td>\n",
       "      <td>  17</td>\n",
       "      <td> 6256</td>\n",
       "    </tr>\n",
       "    <tr>\n",
       "      <th>2</th>\n",
       "      <td>   disgust</td>\n",
       "      <td>  208</td>\n",
       "      <td>  29</td>\n",
       "      <td> 6032</td>\n",
       "    </tr>\n",
       "    <tr>\n",
       "      <th>3</th>\n",
       "      <td>      fear</td>\n",
       "      <td>   21</td>\n",
       "      <td> 286</td>\n",
       "      <td> 6006</td>\n",
       "    </tr>\n",
       "    <tr>\n",
       "      <th>4</th>\n",
       "      <td>   neutral</td>\n",
       "      <td> 6868</td>\n",
       "      <td>   0</td>\n",
       "      <td> 6868</td>\n",
       "    </tr>\n",
       "    <tr>\n",
       "      <th>5</th>\n",
       "      <td> happiness</td>\n",
       "      <td> 5696</td>\n",
       "      <td>   0</td>\n",
       "      <td> 5696</td>\n",
       "    </tr>\n",
       "    <tr>\n",
       "      <th>6</th>\n",
       "      <td>   sadness</td>\n",
       "      <td>  268</td>\n",
       "      <td>  23</td>\n",
       "      <td> 6164</td>\n",
       "    </tr>\n",
       "    <tr>\n",
       "      <th>7</th>\n",
       "      <td>  contempt</td>\n",
       "      <td>    9</td>\n",
       "      <td> 667</td>\n",
       "      <td> 6003</td>\n",
       "    </tr>\n",
       "  </tbody>\n",
       "</table>\n",
       "<p>8 rows × 4 columns</p>\n",
       "</div>"
      ],
      "text/plain": [
       "     emotion  emotionCnt  trans  transCnt\n",
       "0      anger         252     24      6048\n",
       "1   surprise         368     17      6256\n",
       "2    disgust         208     29      6032\n",
       "3       fear          21    286      6006\n",
       "4    neutral        6868      0      6868\n",
       "5  happiness        5696      0      5696\n",
       "6    sadness         268     23      6164\n",
       "7   contempt           9    667      6003\n",
       "\n",
       "[8 rows x 4 columns]"
      ]
     },
     "execution_count": 2,
     "metadata": {},
     "output_type": "execute_result"
    }
   ],
   "source": [
    "# increase anger, surprise, disgust, fear, sadness, contempt \n",
    "# to 6000 each using transformations\n",
    "legendCnt['trans'] = 0\n",
    "\n",
    "legendCnt.trans[0] = math.ceil(6000/float(legendCnt.emotionCnt[0]))\n",
    "legendCnt.trans[1] = math.ceil(6000/float(legendCnt.emotionCnt[1]))\n",
    "legendCnt.trans[2] = math.ceil(6000/float(legendCnt.emotionCnt[2]))\n",
    "legendCnt.trans[3] = math.ceil(6000/float(legendCnt.emotionCnt[3]))\n",
    "legendCnt.trans[6] = math.ceil(6000/float(legendCnt.emotionCnt[6]))\n",
    "legendCnt.trans[7] = math.ceil(6000/float(legendCnt.emotionCnt[7]))\n",
    "\n",
    "legendCnt['transCnt'] = 0\n",
    "legendCnt.transCnt[0] = legendCnt.emotionCnt[0] * legendCnt.trans[0]\n",
    "legendCnt.transCnt[1] = legendCnt.emotionCnt[1] * legendCnt.trans[1]\n",
    "legendCnt.transCnt[2] = legendCnt.emotionCnt[2] * legendCnt.trans[2]\n",
    "legendCnt.transCnt[3] = legendCnt.emotionCnt[3] * legendCnt.trans[3]\n",
    "legendCnt.transCnt[4] = legendCnt.emotionCnt[4]\n",
    "legendCnt.transCnt[5] = legendCnt.emotionCnt[5]\n",
    "legendCnt.transCnt[6] = legendCnt.emotionCnt[6] * legendCnt.trans[6]\n",
    "legendCnt.transCnt[7] = legendCnt.emotionCnt[7] * legendCnt.trans[7]\n",
    "\n",
    "legendCnt"
   ]
  },
  {
   "cell_type": "code",
   "execution_count": 3,
   "metadata": {
    "collapsed": false
   },
   "outputs": [
    {
     "data": {
      "text/plain": [
       "49073"
      ]
     },
     "execution_count": 3,
     "metadata": {},
     "output_type": "execute_result"
    }
   ],
   "source": [
    "legendCnt.transCnt.sum(axis=1)"
   ]
  },
  {
   "cell_type": "code",
   "execution_count": 4,
   "metadata": {
    "collapsed": true
   },
   "outputs": [],
   "source": [
    "imagesAug = [0] * 49073"
   ]
  },
  {
   "cell_type": "code",
   "execution_count": null,
   "metadata": {
    "collapsed": true
   },
   "outputs": [],
   "source": []
  }
 ],
 "metadata": {
  "kernelspec": {
   "display_name": "Python 2",
   "language": "python",
   "name": "python2"
  },
  "language_info": {
   "codemirror_mode": {
    "name": "ipython",
    "version": 2
   },
   "file_extension": ".py",
   "mimetype": "text/x-python",
   "name": "python",
   "nbconvert_exporter": "python",
   "pygments_lexer": "ipython2",
   "version": "2.7.6"
  }
 },
 "nbformat": 4,
 "nbformat_minor": 0
}
