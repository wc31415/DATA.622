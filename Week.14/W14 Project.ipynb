{
 "cells": [
  {
   "cell_type": "code",
   "execution_count": 3,
   "metadata": {
    "collapsed": false
   },
   "outputs": [],
   "source": [
    "import os\n",
    "import pandas as pd\n",
    "import numpy as np\n",
    "from scipy import misc\n",
    "from sklearn.cross_validation import train_test_split\n",
    "from keras.utils import np_utils\n",
    "from keras.models import Sequential\n",
    "from keras.layers import Convolution2D, MaxPooling2D\n",
    "from keras.layers import Activation, Dropout, Flatten, Dense\n",
    "np.random.seed(31415)"
   ]
  },
  {
   "cell_type": "code",
   "execution_count": 4,
   "metadata": {
    "collapsed": true
   },
   "outputs": [],
   "source": [
    "img_path = \"/root/sharedfolder/clean/\"\n",
    "legend = pd.read_csv(\"/root/sharedfolder/legend/legend-clean.csv\")"
   ]
  },
  {
   "cell_type": "code",
   "execution_count": 5,
   "metadata": {
    "collapsed": true
   },
   "outputs": [],
   "source": [
    "batch_size = 1024\n",
    "nb_classes = 8\n",
    "nb_epoch = 12\n",
    "\n",
    "# input image dimensions\n",
    "img_rows, img_cols = 96, 96\n",
    "# number of convolutional filters to use\n",
    "nb_filters = 32\n",
    "# size of pooling area for max pooling\n",
    "pool_size = (2, 2)\n",
    "# convolution kernel size\n",
    "kernel_size = (3, 3)"
   ]
  },
  {
   "cell_type": "code",
   "execution_count": 6,
   "metadata": {
    "collapsed": true
   },
   "outputs": [],
   "source": [
    "legend['emotion'] = legend['emotion'].str.lower()"
   ]
  },
  {
   "cell_type": "code",
   "execution_count": 7,
   "metadata": {
    "collapsed": true
   },
   "outputs": [],
   "source": [
    "# 'neutral' = 0\n",
    "# 'happiness' = 1\n",
    "# 'surprise' = 2\n",
    "# 'anger' = 3\n",
    "# 'sadness' = 4\n",
    "# 'contempt' = 5\n",
    "# 'disgust' = 6\n",
    "# 'fear' = 7\n",
    "legend.replace('neutral', 0, inplace=True)\n",
    "legend.replace('happiness', 1, inplace=True)\n",
    "legend.replace('surprise', 2, inplace=True)\n",
    "legend.replace('anger', 3, inplace=True)\n",
    "legend.replace('sadness', 4, inplace=True)\n",
    "legend.replace('contempt', 5, inplace=True)\n",
    "legend.replace('disgust', 6, inplace=True)\n",
    "legend.replace('fear', 7, inplace=True)"
   ]
  },
  {
   "cell_type": "code",
   "execution_count": 8,
   "metadata": {
    "collapsed": true
   },
   "outputs": [],
   "source": [
    "# convert images to numpy.ndarray\n",
    "\n",
    "images = np.empty(shape=[len(legend), img_rows, img_cols])\n",
    "for i in range(0,len(legend)):\n",
    "    temp = img_path + legend.iloc[i,0]\n",
    "    img = misc.imread(temp, flatten=True,)\n",
    "    img = misc.imresize(img, (img_rows, img_cols))\n",
    "    images[i] = img"
   ]
  },
  {
   "cell_type": "code",
   "execution_count": 9,
   "metadata": {
    "collapsed": true
   },
   "outputs": [],
   "source": [
    "emotions = legend['emotion']"
   ]
  },
  {
   "cell_type": "code",
   "execution_count": 10,
   "metadata": {
    "collapsed": true
   },
   "outputs": [],
   "source": [
    "# the data, shuffled and split between train and test sets\n",
    "X_train, X_test, y_train, y_test = train_test_split(images, emotions, test_size=0.25)"
   ]
  },
  {
   "cell_type": "code",
   "execution_count": 12,
   "metadata": {
    "collapsed": false
   },
   "outputs": [
    {
     "data": {
      "text/plain": [
       "(10260, 96, 96)"
      ]
     },
     "execution_count": 12,
     "metadata": {},
     "output_type": "execute_result"
    }
   ],
   "source": [
    "X_train.shape"
   ]
  },
  {
   "cell_type": "code",
   "execution_count": 13,
   "metadata": {
    "collapsed": false
   },
   "outputs": [
    {
     "data": {
      "text/plain": [
       "(3421, 96, 96)"
      ]
     },
     "execution_count": 13,
     "metadata": {},
     "output_type": "execute_result"
    }
   ],
   "source": [
    "X_test.shape"
   ]
  },
  {
   "cell_type": "code",
   "execution_count": 14,
   "metadata": {
    "collapsed": true
   },
   "outputs": [],
   "source": [
    "img_rows, img_cols = X_train.shape[1], X_train.shape[2]\n",
    "X_train = X_train.reshape(X_train.shape[0], 1, img_rows, img_cols)\n",
    "X_test = X_test.reshape(X_test.shape[0], 1, img_rows, img_cols)"
   ]
  },
  {
   "cell_type": "code",
   "execution_count": 15,
   "metadata": {
    "collapsed": false
   },
   "outputs": [
    {
     "data": {
      "text/plain": [
       "(10260, 1, 96, 96)"
      ]
     },
     "execution_count": 15,
     "metadata": {},
     "output_type": "execute_result"
    }
   ],
   "source": [
    "X_train.shape"
   ]
  },
  {
   "cell_type": "code",
   "execution_count": 16,
   "metadata": {
    "collapsed": false
   },
   "outputs": [
    {
     "data": {
      "text/plain": [
       "(3421, 1, 96, 96)"
      ]
     },
     "execution_count": 16,
     "metadata": {},
     "output_type": "execute_result"
    }
   ],
   "source": [
    "X_test.shape"
   ]
  },
  {
   "cell_type": "code",
   "execution_count": 17,
   "metadata": {
    "collapsed": true
   },
   "outputs": [],
   "source": [
    "input_shape = (1, img_rows, img_cols)"
   ]
  },
  {
   "cell_type": "code",
   "execution_count": 18,
   "metadata": {
    "collapsed": false
   },
   "outputs": [
    {
     "name": "stdout",
     "output_type": "stream",
     "text": [
      "('X_train shape:', (10260, 1, 96, 96))\n",
      "(10260, 'train samples')\n",
      "(3421, 'test samples')\n",
      "Train on 10260 samples, validate on 3421 samples\n",
      "Epoch 1/12\n",
      "10260/10260 [==============================] - 682s - loss: 3.5058 - acc: 0.4355 - val_loss: 1.1036 - val_acc: 0.4177\n",
      "Epoch 2/12\n",
      "10260/10260 [==============================] - 682s - loss: 1.1150 - acc: 0.4833 - val_loss: 1.0495 - val_acc: 0.5010\n",
      "Epoch 3/12\n",
      "10260/10260 [==============================] - 704s - loss: 1.0992 - acc: 0.5014 - val_loss: 1.0494 - val_acc: 0.5010\n",
      "Epoch 4/12\n",
      "10260/10260 [==============================] - 698s - loss: 1.0831 - acc: 0.5090 - val_loss: 1.1488 - val_acc: 0.5010\n",
      "Epoch 5/12\n",
      "10260/10260 [==============================] - 692s - loss: 1.0930 - acc: 0.5210 - val_loss: 1.0264 - val_acc: 0.5107\n",
      "Epoch 6/12\n",
      "10260/10260 [==============================] - 735s - loss: 1.0787 - acc: 0.5255 - val_loss: 1.2299 - val_acc: 0.5010\n",
      "Epoch 7/12\n",
      "10260/10260 [==============================] - 704s - loss: 1.0738 - acc: 0.5376 - val_loss: 0.9854 - val_acc: 0.6630\n",
      "Epoch 8/12\n",
      "10260/10260 [==============================] - 723s - loss: 1.0488 - acc: 0.5467 - val_loss: 1.0357 - val_acc: 0.6311\n",
      "Epoch 9/12\n",
      "10260/10260 [==============================] - 709s - loss: 1.0297 - acc: 0.5582 - val_loss: 1.0658 - val_acc: 0.4288\n",
      "Epoch 10/12\n",
      "10260/10260 [==============================] - 712s - loss: 1.0177 - acc: 0.5662 - val_loss: 0.9450 - val_acc: 0.5723\n",
      "Epoch 11/12\n",
      "10260/10260 [==============================] - 706s - loss: 0.9970 - acc: 0.5844 - val_loss: 0.9805 - val_acc: 0.4566\n",
      "Epoch 12/12\n",
      "10260/10260 [==============================] - 682s - loss: 0.9907 - acc: 0.6268 - val_loss: 0.8892 - val_acc: 0.7311\n",
      "('Test score:', 0.88924710346710889)\n",
      "('Test accuracy:', 0.73107278549124088)\n"
     ]
    }
   ],
   "source": [
    "X_train = X_train.astype('float32')\n",
    "X_test = X_test.astype('float32')\n",
    "X_train /= 255\n",
    "X_test /= 255\n",
    "print('X_train shape:', X_train.shape)\n",
    "print(X_train.shape[0], 'train samples')\n",
    "print(X_test.shape[0], 'test samples')\n",
    "\n",
    "# convert class vectors to binary class matrices\n",
    "Y_train = np_utils.to_categorical(y_train, nb_classes)\n",
    "Y_test = np_utils.to_categorical(y_test, nb_classes)\n",
    "\n",
    "model = Sequential()\n",
    "\n",
    "model.add(Convolution2D(nb_filters, kernel_size[0], kernel_size[1],\n",
    "                        border_mode='valid',\n",
    "                        input_shape=input_shape))\n",
    "model.add(Activation('relu'))\n",
    "model.add(Convolution2D(nb_filters, kernel_size[0], kernel_size[1]))\n",
    "model.add(Activation('relu'))\n",
    "model.add(MaxPooling2D(pool_size=pool_size))\n",
    "model.add(Dropout(0.25))\n",
    "\n",
    "model.add(Flatten())\n",
    "model.add(Dense(128))\n",
    "model.add(Activation('relu'))\n",
    "model.add(Dropout(0.5))\n",
    "model.add(Dense(nb_classes))\n",
    "model.add(Activation('softmax'))\n",
    "\n",
    "model.compile(loss='categorical_crossentropy',\n",
    "              optimizer='adadelta',\n",
    "              metrics=['accuracy'])\n",
    "\n",
    "model.fit(X_train, Y_train, batch_size=batch_size, nb_epoch=nb_epoch,\n",
    "          verbose=1, validation_data=(X_test, Y_test))\n",
    "score = model.evaluate(X_test, Y_test, verbose=0)\n",
    "print('Test score:', score[0])\n",
    "print('Test accuracy:', score[1])"
   ]
  },
  {
   "cell_type": "code",
   "execution_count": null,
   "metadata": {
    "collapsed": true
   },
   "outputs": [],
   "source": []
  }
 ],
 "metadata": {
  "kernelspec": {
   "display_name": "Python 2",
   "language": "python",
   "name": "python2"
  },
  "language_info": {
   "codemirror_mode": {
    "name": "ipython",
    "version": 2
   },
   "file_extension": ".py",
   "mimetype": "text/x-python",
   "name": "python",
   "nbconvert_exporter": "python",
   "pygments_lexer": "ipython2",
   "version": "2.7.6"
  }
 },
 "nbformat": 4,
 "nbformat_minor": 0
}
