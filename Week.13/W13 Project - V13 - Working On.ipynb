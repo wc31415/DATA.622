{
 "cells": [
  {
   "cell_type": "code",
   "execution_count": 41,
   "metadata": {
    "collapsed": false
   },
   "outputs": [],
   "source": [
    "import os\n",
    "import pandas as pd\n",
    "import numpy as np\n",
    "from scipy import misc\n",
    "from sklearn.cross_validation import train_test_split\n",
    "from keras.utils import np_utils\n",
    "from keras.models import Sequential\n",
    "from keras.layers import Convolution2D, MaxPooling2D\n",
    "from keras.layers import Activation, Dropout, Flatten, Dense"
   ]
  },
  {
   "cell_type": "code",
   "execution_count": 42,
   "metadata": {
    "collapsed": true
   },
   "outputs": [],
   "source": [
    "img_path = \"/root/sharedfolder/clean/\"\n",
    "legend = pd.read_csv(\"/root/sharedfolder/legend/legend-clean.csv\")"
   ]
  },
  {
   "cell_type": "code",
   "execution_count": 43,
   "metadata": {
    "collapsed": true
   },
   "outputs": [],
   "source": [
    "batch_size = 128\n",
    "nb_classes = 8\n",
    "nb_epoch = 12\n",
    "\n",
    "# input image dimensions\n",
    "img_rows, img_cols = 96, 96\n",
    "# number of convolutional filters to use\n",
    "nb_filters = 32\n",
    "# size of pooling area for max pooling\n",
    "pool_size = (2, 2)\n",
    "# convolution kernel size\n",
    "kernel_size = (3, 3)"
   ]
  },
  {
   "cell_type": "code",
   "execution_count": 44,
   "metadata": {
    "collapsed": true
   },
   "outputs": [],
   "source": [
    "legend['emotion'] = legend['emotion'].str.lower()"
   ]
  },
  {
   "cell_type": "code",
   "execution_count": 45,
   "metadata": {
    "collapsed": false
   },
   "outputs": [],
   "source": [
    "# 'neutral' = 0\n",
    "# 'happiness' = 1\n",
    "# 'surprise' = 2\n",
    "# 'anger' = 3\n",
    "# 'sadness' = 4\n",
    "# 'contempt' = 5\n",
    "# 'disgust' = 6\n",
    "# 'fear' = 7\n",
    "legend.replace('neutral', 0, inplace=True)\n",
    "legend.replace('happiness', 1, inplace=True)\n",
    "legend.replace('surprise', 2, inplace=True)\n",
    "legend.replace('anger', 3, inplace=True)\n",
    "legend.replace('sadness', 4, inplace=True)\n",
    "legend.replace('contempt', 5, inplace=True)\n",
    "legend.replace('disgust', 6, inplace=True)\n",
    "legend.replace('fear', 7, inplace=True)"
   ]
  },
  {
   "cell_type": "code",
   "execution_count": 46,
   "metadata": {
    "collapsed": true
   },
   "outputs": [],
   "source": [
    "# convert images to numpy.ndarray\n",
    "\n",
    "images = np.empty(shape=[len(legend), img_rows, img_cols])\n",
    "for i in range(0,len(legend)):\n",
    "    temp = img_path + legend.iloc[i,0]\n",
    "    img = misc.imread(temp, flatten=True,)\n",
    "    img = misc.imresize(img, (img_rows, img_cols))\n",
    "    images[i] = img"
   ]
  },
  {
   "cell_type": "code",
   "execution_count": 48,
   "metadata": {
    "collapsed": true
   },
   "outputs": [],
   "source": [
    "emotions = legend['emotion']"
   ]
  },
  {
   "cell_type": "code",
   "execution_count": 49,
   "metadata": {
    "collapsed": true
   },
   "outputs": [],
   "source": [
    "# the data, shuffled and split between train and test sets\n",
    "X_train, X_test, y_train, y_test = train_test_split(images, emotions, test_size=0.25)"
   ]
  },
  {
   "cell_type": "code",
   "execution_count": 50,
   "metadata": {
    "collapsed": false
   },
   "outputs": [
    {
     "data": {
      "text/plain": [
       "(10260, 96, 96)"
      ]
     },
     "execution_count": 50,
     "metadata": {},
     "output_type": "execute_result"
    }
   ],
   "source": [
    "X_train.shape"
   ]
  },
  {
   "cell_type": "code",
   "execution_count": 51,
   "metadata": {
    "collapsed": false
   },
   "outputs": [
    {
     "data": {
      "text/plain": [
       "(3421, 96, 96)"
      ]
     },
     "execution_count": 51,
     "metadata": {},
     "output_type": "execute_result"
    }
   ],
   "source": [
    "X_test.shape"
   ]
  },
  {
   "cell_type": "code",
   "execution_count": 52,
   "metadata": {
    "collapsed": true
   },
   "outputs": [],
   "source": [
    "img_rows, img_cols = X_train.shape[1], X_train.shape[2]\n",
    "X_train = X_train.reshape(X_train.shape[0], 1, img_rows, img_cols)\n",
    "X_test = X_test.reshape(X_test.shape[0], 1, img_rows, img_cols)"
   ]
  },
  {
   "cell_type": "code",
   "execution_count": 53,
   "metadata": {
    "collapsed": false
   },
   "outputs": [
    {
     "data": {
      "text/plain": [
       "(10260, 1, 96, 96)"
      ]
     },
     "execution_count": 53,
     "metadata": {},
     "output_type": "execute_result"
    }
   ],
   "source": [
    "X_train.shape"
   ]
  },
  {
   "cell_type": "code",
   "execution_count": 54,
   "metadata": {
    "collapsed": false
   },
   "outputs": [
    {
     "data": {
      "text/plain": [
       "(3421, 1, 96, 96)"
      ]
     },
     "execution_count": 54,
     "metadata": {},
     "output_type": "execute_result"
    }
   ],
   "source": [
    "X_test.shape"
   ]
  },
  {
   "cell_type": "code",
   "execution_count": 55,
   "metadata": {
    "collapsed": true
   },
   "outputs": [],
   "source": [
    "input_shape = (1, img_rows, img_cols)"
   ]
  },
  {
   "cell_type": "code",
   "execution_count": 56,
   "metadata": {
    "collapsed": false
   },
   "outputs": [
    {
     "name": "stdout",
     "output_type": "stream",
     "text": [
      "('X_train shape:', (10260, 1, 96, 96))\n",
      "(10260, 'train samples')\n",
      "(3421, 'test samples')\n",
      "Train on 10260 samples, validate on 3421 samples\n",
      "Epoch 1/12\n",
      "10260/10260 [==============================] - 673s - loss: 1.3074 - acc: 0.4893 - val_loss: 0.9652 - val_acc: 0.6744\n",
      "Epoch 2/12\n",
      "10260/10260 [==============================] - 702s - loss: 0.9778 - acc: 0.6295 - val_loss: 1.0039 - val_acc: 0.6618\n",
      "Epoch 3/12\n",
      "10260/10260 [==============================] - 703s - loss: 0.8470 - acc: 0.7025 - val_loss: 0.7531 - val_acc: 0.7226\n",
      "Epoch 4/12\n",
      "10260/10260 [==============================] - 705s - loss: 0.7581 - acc: 0.7365 - val_loss: 0.6735 - val_acc: 0.7583\n",
      "Epoch 5/12\n",
      "10260/10260 [==============================] - 668s - loss: 0.6925 - acc: 0.7678 - val_loss: 0.6421 - val_acc: 0.7580\n",
      "Epoch 6/12\n",
      "10260/10260 [==============================] - 665s - loss: 0.6380 - acc: 0.7860 - val_loss: 0.5857 - val_acc: 0.8053\n",
      "Epoch 7/12\n",
      "10260/10260 [==============================] - 709s - loss: 0.5995 - acc: 0.7965 - val_loss: 0.5962 - val_acc: 0.8120\n",
      "Epoch 8/12\n",
      "10260/10260 [==============================] - 713s - loss: 0.5686 - acc: 0.8019 - val_loss: 0.6264 - val_acc: 0.7916\n",
      "Epoch 9/12\n",
      "10260/10260 [==============================] - 690s - loss: 0.5261 - acc: 0.8152 - val_loss: 0.5601 - val_acc: 0.8042\n",
      "Epoch 10/12\n",
      "10260/10260 [==============================] - 695s - loss: 0.5042 - acc: 0.8266 - val_loss: 0.5636 - val_acc: 0.8042\n",
      "Epoch 11/12\n",
      "10260/10260 [==============================] - 686s - loss: 0.4737 - acc: 0.8342 - val_loss: 0.5445 - val_acc: 0.8144\n",
      "Epoch 12/12\n",
      "10260/10260 [==============================] - 692s - loss: 0.4489 - acc: 0.8396 - val_loss: 0.6060 - val_acc: 0.8074\n",
      "('Test score:', 0.60602154284149401)\n",
      "('Test accuracy:', 0.80736626724303373)\n"
     ]
    }
   ],
   "source": [
    "X_train = X_train.astype('float32')\n",
    "X_test = X_test.astype('float32')\n",
    "X_train /= 255\n",
    "X_test /= 255\n",
    "print('X_train shape:', X_train.shape)\n",
    "print(X_train.shape[0], 'train samples')\n",
    "print(X_test.shape[0], 'test samples')\n",
    "\n",
    "# convert class vectors to binary class matrices\n",
    "Y_train = np_utils.to_categorical(y_train, nb_classes)\n",
    "Y_test = np_utils.to_categorical(y_test, nb_classes)\n",
    "\n",
    "model = Sequential()\n",
    "\n",
    "model.add(Convolution2D(nb_filters, kernel_size[0], kernel_size[1],\n",
    "                        border_mode='valid',\n",
    "                        input_shape=input_shape))\n",
    "model.add(Activation('relu'))\n",
    "model.add(Convolution2D(nb_filters, kernel_size[0], kernel_size[1]))\n",
    "model.add(Activation('relu'))\n",
    "model.add(MaxPooling2D(pool_size=pool_size))\n",
    "model.add(Dropout(0.25))\n",
    "\n",
    "model.add(Flatten())\n",
    "model.add(Dense(128))\n",
    "model.add(Activation('relu'))\n",
    "model.add(Dropout(0.5))\n",
    "model.add(Dense(nb_classes))\n",
    "model.add(Activation('softmax'))\n",
    "\n",
    "model.compile(loss='categorical_crossentropy',\n",
    "              optimizer='adadelta',\n",
    "              metrics=['accuracy'])\n",
    "\n",
    "model.fit(X_train, Y_train, batch_size=batch_size, nb_epoch=nb_epoch,\n",
    "          verbose=1, validation_data=(X_test, Y_test))\n",
    "score = model.evaluate(X_test, Y_test, verbose=0)\n",
    "print('Test score:', score[0])\n",
    "print('Test accuracy:', score[1])"
   ]
  },
  {
   "cell_type": "code",
   "execution_count": null,
   "metadata": {
    "collapsed": true
   },
   "outputs": [],
   "source": []
  }
 ],
 "metadata": {
  "kernelspec": {
   "display_name": "Python 2",
   "language": "python",
   "name": "python2"
  },
  "language_info": {
   "codemirror_mode": {
    "name": "ipython",
    "version": 2
   },
   "file_extension": ".py",
   "mimetype": "text/x-python",
   "name": "python",
   "nbconvert_exporter": "python",
   "pygments_lexer": "ipython2",
   "version": "2.7.6"
  }
 },
 "nbformat": 4,
 "nbformat_minor": 0
}
