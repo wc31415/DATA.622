{
 "cells": [
  {
   "cell_type": "code",
   "execution_count": 3,
   "metadata": {
    "collapsed": false
   },
   "outputs": [],
   "source": [
    "import os\n",
    "import pandas as pd\n",
    "import numpy as np\n",
    "from scipy import misc\n",
    "from sklearn.cross_validation import train_test_split\n",
    "from keras.utils import np_utils\n",
    "from keras.models import Sequential\n",
    "from keras.layers import Convolution2D, MaxPooling2D\n",
    "from keras.layers import Activation, Dropout, Flatten, Dense"
   ]
  },
  {
   "cell_type": "code",
   "execution_count": 4,
   "metadata": {
    "collapsed": true
   },
   "outputs": [],
   "source": [
    "legend = pd.read_csv(\"/root/sharedfolder/legend/legend-clean.csv\")"
   ]
  },
  {
   "cell_type": "code",
   "execution_count": 5,
   "metadata": {
    "collapsed": true
   },
   "outputs": [],
   "source": [
    "aug_path = \"/root/sharedfolder/images-aug/\"\n",
    "legend_aug = pd.read_csv(\"/root/sharedfolder/legend/legend-aug.csv\")"
   ]
  },
  {
   "cell_type": "code",
   "execution_count": 6,
   "metadata": {
    "collapsed": true
   },
   "outputs": [],
   "source": [
    "batch_size = 128\n",
    "nb_classes = 8\n",
    "nb_epoch = 12\n",
    "\n",
    "# input image dimensions\n",
    "img_rows, img_cols = 96, 96\n",
    "# number of convolutional filters to use\n",
    "nb_filters = 32\n",
    "# size of pooling area for max pooling\n",
    "pool_size = (2, 2)\n",
    "# convolution kernel size\n",
    "kernel_size = (3, 3)"
   ]
  },
  {
   "cell_type": "code",
   "execution_count": 9,
   "metadata": {
    "collapsed": false
   },
   "outputs": [
    {
     "data": {
      "text/plain": [
       "array(['neutral', 'happiness', 'surprise', 'anger', 'sadness', 'contempt',\n",
       "       'NEUTRAL', 'SADNESS', 'DISGUST', 'FEAR', 'SURPRISE', 'disgust',\n",
       "       'ANGER', 'HAPPINESS', 'fear'], dtype=object)"
      ]
     },
     "execution_count": 9,
     "metadata": {},
     "output_type": "execute_result"
    }
   ],
   "source": [
    "legend['emotion'].unique()"
   ]
  },
  {
   "cell_type": "code",
   "execution_count": 10,
   "metadata": {
    "collapsed": true
   },
   "outputs": [],
   "source": [
    "legend['emotion'] = legend['emotion'].str.lower()"
   ]
  },
  {
   "cell_type": "code",
   "execution_count": 11,
   "metadata": {
    "collapsed": false
   },
   "outputs": [
    {
     "data": {
      "text/plain": [
       "array(['surprise', 'anger', 'sadness', 'contempt', 'disgust', 'fear'], dtype=object)"
      ]
     },
     "execution_count": 11,
     "metadata": {},
     "output_type": "execute_result"
    }
   ],
   "source": [
    "legend_aug['emotion'].unique()"
   ]
  },
  {
   "cell_type": "code",
   "execution_count": 12,
   "metadata": {
    "collapsed": false
   },
   "outputs": [
    {
     "data": {
      "text/plain": [
       "array(['neutral', 'happiness', 'surprise', 'anger', 'sadness', 'contempt',\n",
       "       'disgust', 'fear'], dtype=object)"
      ]
     },
     "execution_count": 12,
     "metadata": {},
     "output_type": "execute_result"
    }
   ],
   "source": [
    "legend['emotion'].unique()"
   ]
  },
  {
   "cell_type": "code",
   "execution_count": 13,
   "metadata": {
    "collapsed": true
   },
   "outputs": [],
   "source": [
    "# 'neutral' = 0\n",
    "# 'happiness' = 1\n",
    "# 'surprise' = 2\n",
    "# 'anger' = 3\n",
    "# 'sadness' = 4\n",
    "# 'contempt' = 5\n",
    "# 'disgust' = 6\n",
    "# 'fear' = 7\n",
    "legend.replace('neutral', 0, inplace=True)\n",
    "legend.replace('happiness', 1, inplace=True)\n",
    "legend.replace('surprise', 2, inplace=True)\n",
    "legend.replace('anger', 3, inplace=True)\n",
    "legend.replace('sadness', 4, inplace=True)\n",
    "legend.replace('contempt', 5, inplace=True)\n",
    "legend.replace('disgust', 6, inplace=True)\n",
    "legend.replace('fear', 7, inplace=True)"
   ]
  },
  {
   "cell_type": "code",
   "execution_count": 14,
   "metadata": {
    "collapsed": true
   },
   "outputs": [],
   "source": [
    "legend_aug.replace('surprise', 2, inplace=True)\n",
    "legend_aug.replace('anger', 3, inplace=True)\n",
    "legend_aug.replace('sadness', 4, inplace=True)\n",
    "legend_aug.replace('contempt', 5, inplace=True)\n",
    "legend_aug.replace('disgust', 6, inplace=True)\n",
    "legend_aug.replace('fear', 7, inplace=True)"
   ]
  },
  {
   "cell_type": "code",
   "execution_count": 15,
   "metadata": {
    "collapsed": false
   },
   "outputs": [
    {
     "data": {
      "text/plain": [
       "36161"
      ]
     },
     "execution_count": 15,
     "metadata": {},
     "output_type": "execute_result"
    }
   ],
   "source": [
    "len(legend) + len(legend_aug)"
   ]
  },
  {
   "cell_type": "code",
   "execution_count": 16,
   "metadata": {
    "collapsed": true
   },
   "outputs": [],
   "source": [
    "frames = [legend, legend_aug]\n",
    "new_legend = pd.concat(frames)"
   ]
  },
  {
   "cell_type": "code",
   "execution_count": 17,
   "metadata": {
    "collapsed": false
   },
   "outputs": [
    {
     "data": {
      "text/plain": [
       "36161"
      ]
     },
     "execution_count": 17,
     "metadata": {},
     "output_type": "execute_result"
    }
   ],
   "source": [
    "len(new_legend)"
   ]
  },
  {
   "cell_type": "code",
   "execution_count": 18,
   "metadata": {
    "collapsed": false
   },
   "outputs": [],
   "source": [
    "# convert images to numpy.ndarray\n",
    "\n",
    "images = np.empty(shape=[len(new_legend), img_rows, img_cols])\n",
    "for i in range(0,len(new_legend)):\n",
    "    temp = aug_path + new_legend.iloc[i,0]\n",
    "    img = misc.imread(temp, flatten=True,)\n",
    "    img = misc.imresize(img, (img_rows, img_cols))\n",
    "    images[i] = img"
   ]
  },
  {
   "cell_type": "code",
   "execution_count": 19,
   "metadata": {
    "collapsed": true
   },
   "outputs": [],
   "source": [
    "emotions = new_legend['emotion']"
   ]
  },
  {
   "cell_type": "code",
   "execution_count": 20,
   "metadata": {
    "collapsed": true
   },
   "outputs": [],
   "source": [
    "# the data, shuffled and split between train and test sets\n",
    "X_train, X_test, y_train, y_test = train_test_split(images, emotions, test_size=0.25)"
   ]
  },
  {
   "cell_type": "code",
   "execution_count": 21,
   "metadata": {
    "collapsed": false
   },
   "outputs": [
    {
     "data": {
      "text/plain": [
       "(27120, 96, 96)"
      ]
     },
     "execution_count": 21,
     "metadata": {},
     "output_type": "execute_result"
    }
   ],
   "source": [
    "X_train.shape"
   ]
  },
  {
   "cell_type": "code",
   "execution_count": 22,
   "metadata": {
    "collapsed": false
   },
   "outputs": [
    {
     "data": {
      "text/plain": [
       "(9041, 96, 96)"
      ]
     },
     "execution_count": 22,
     "metadata": {},
     "output_type": "execute_result"
    }
   ],
   "source": [
    "X_test.shape"
   ]
  },
  {
   "cell_type": "code",
   "execution_count": 23,
   "metadata": {
    "collapsed": true
   },
   "outputs": [],
   "source": [
    "img_rows, img_cols = X_train.shape[1], X_train.shape[2]\n",
    "X_train = X_train.reshape(X_train.shape[0], 1, img_rows, img_cols)\n",
    "X_test = X_test.reshape(X_test.shape[0], 1, img_rows, img_cols)"
   ]
  },
  {
   "cell_type": "code",
   "execution_count": 24,
   "metadata": {
    "collapsed": false
   },
   "outputs": [
    {
     "data": {
      "text/plain": [
       "(27120, 1, 96, 96)"
      ]
     },
     "execution_count": 24,
     "metadata": {},
     "output_type": "execute_result"
    }
   ],
   "source": [
    "X_train.shape"
   ]
  },
  {
   "cell_type": "code",
   "execution_count": 25,
   "metadata": {
    "collapsed": false
   },
   "outputs": [
    {
     "data": {
      "text/plain": [
       "(9041, 1, 96, 96)"
      ]
     },
     "execution_count": 25,
     "metadata": {},
     "output_type": "execute_result"
    }
   ],
   "source": [
    "X_test.shape"
   ]
  },
  {
   "cell_type": "code",
   "execution_count": 26,
   "metadata": {
    "collapsed": true
   },
   "outputs": [],
   "source": [
    "input_shape = (1, img_rows, img_cols)"
   ]
  },
  {
   "cell_type": "code",
   "execution_count": 27,
   "metadata": {
    "collapsed": false
   },
   "outputs": [
    {
     "name": "stdout",
     "output_type": "stream",
     "text": [
      "('X_train shape:', (27120, 1, 96, 96))\n",
      "(27120, 'train samples')\n",
      "(9041, 'test samples')\n",
      "Train on 27120 samples, validate on 9041 samples\n",
      "Epoch 1/12\n",
      "27120/27120 [==============================] - 1751s - loss: 1.8562 - acc: 0.2692 - val_loss: 1.4302 - val_acc: 0.4737\n",
      "Epoch 2/12\n",
      "27120/27120 [==============================] - 1552s - loss: 1.4201 - acc: 0.4324 - val_loss: 1.1978 - val_acc: 0.5429\n",
      "Epoch 3/12\n",
      "27120/27120 [==============================] - 1591s - loss: 1.2281 - acc: 0.5290 - val_loss: 1.0631 - val_acc: 0.6016\n",
      "Epoch 4/12\n",
      "27120/27120 [==============================] - 1586s - loss: 1.0869 - acc: 0.5882 - val_loss: 0.9555 - val_acc: 0.6504\n",
      "Epoch 5/12\n",
      "27120/27120 [==============================] - 1599s - loss: 0.9732 - acc: 0.6385 - val_loss: 0.8885 - val_acc: 0.6810\n",
      "Epoch 6/12\n",
      "27120/27120 [==============================] - 1601s - loss: 0.8735 - acc: 0.6795 - val_loss: 0.8189 - val_acc: 0.7036\n",
      "Epoch 7/12\n",
      "27120/27120 [==============================] - 1550s - loss: 0.7887 - acc: 0.7088 - val_loss: 0.7797 - val_acc: 0.7154\n",
      "Epoch 8/12\n",
      "27120/27120 [==============================] - 1586s - loss: 0.7018 - acc: 0.7424 - val_loss: 0.7366 - val_acc: 0.7322\n",
      "Epoch 9/12\n",
      "27120/27120 [==============================] - 1593s - loss: 0.6302 - acc: 0.7735 - val_loss: 0.7111 - val_acc: 0.7442\n",
      "Epoch 10/12\n",
      "27120/27120 [==============================] - 1603s - loss: 0.5745 - acc: 0.7945 - val_loss: 0.6783 - val_acc: 0.7579\n",
      "Epoch 11/12\n",
      "27120/27120 [==============================] - 1607s - loss: 0.5110 - acc: 0.8150 - val_loss: 0.6660 - val_acc: 0.7630\n",
      "Epoch 12/12\n",
      "27120/27120 [==============================] - 1608s - loss: 0.4613 - acc: 0.8353 - val_loss: 0.6638 - val_acc: 0.7723\n",
      "('Test score:', 0.66380866298289465)\n",
      "('Test accuracy:', 0.77225970581772185)\n"
     ]
    }
   ],
   "source": [
    "X_train = X_train.astype('float32')\n",
    "X_test = X_test.astype('float32')\n",
    "X_train /= 255\n",
    "X_test /= 255\n",
    "print('X_train shape:', X_train.shape)\n",
    "print(X_train.shape[0], 'train samples')\n",
    "print(X_test.shape[0], 'test samples')\n",
    "\n",
    "# convert class vectors to binary class matrices\n",
    "Y_train = np_utils.to_categorical(y_train, nb_classes)\n",
    "Y_test = np_utils.to_categorical(y_test, nb_classes)\n",
    "\n",
    "model = Sequential()\n",
    "\n",
    "model.add(Convolution2D(nb_filters, kernel_size[0], kernel_size[1],\n",
    "                        border_mode='valid',\n",
    "                        input_shape=input_shape))\n",
    "model.add(Activation('relu'))\n",
    "model.add(Convolution2D(nb_filters, kernel_size[0], kernel_size[1]))\n",
    "model.add(Activation('relu'))\n",
    "model.add(MaxPooling2D(pool_size=pool_size))\n",
    "model.add(Dropout(0.25))\n",
    "\n",
    "model.add(Flatten())\n",
    "model.add(Dense(128))\n",
    "model.add(Activation('relu'))\n",
    "model.add(Dropout(0.5))\n",
    "model.add(Dense(nb_classes))\n",
    "model.add(Activation('softmax'))\n",
    "\n",
    "model.compile(loss='categorical_crossentropy',\n",
    "              optimizer='adadelta',\n",
    "              metrics=['accuracy'])\n",
    "\n",
    "model.fit(X_train, Y_train, batch_size=batch_size, nb_epoch=nb_epoch,\n",
    "          verbose=1, validation_data=(X_test, Y_test))\n",
    "score = model.evaluate(X_test, Y_test, verbose=0)\n",
    "print('Test score:', score[0])\n",
    "print('Test accuracy:', score[1])"
   ]
  },
  {
   "cell_type": "code",
   "execution_count": null,
   "metadata": {
    "collapsed": true
   },
   "outputs": [],
   "source": []
  }
 ],
 "metadata": {
  "kernelspec": {
   "display_name": "Python 2",
   "language": "python",
   "name": "python2"
  },
  "language_info": {
   "codemirror_mode": {
    "name": "ipython",
    "version": 2
   },
   "file_extension": ".py",
   "mimetype": "text/x-python",
   "name": "python",
   "nbconvert_exporter": "python",
   "pygments_lexer": "ipython2",
   "version": "2.7.6"
  }
 },
 "nbformat": 4,
 "nbformat_minor": 0
}
