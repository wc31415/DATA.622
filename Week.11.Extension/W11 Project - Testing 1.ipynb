{
 "cells": [
  {
   "cell_type": "code",
   "execution_count": 9,
   "metadata": {
    "collapsed": false
   },
   "outputs": [],
   "source": [
    "import os\n",
    "import pandas as pd\n",
    "import math\n",
    "\n",
    "images = os.listdir(\"/root/sharedfolder/images\")\n",
    "legend = pd.read_csv(\"/root/sharedfolder/data/legend.csv\")"
   ]
  },
  {
   "cell_type": "code",
   "execution_count": 16,
   "metadata": {
    "collapsed": false
   },
   "outputs": [
    {
     "data": {
      "text/plain": [
       "'Mireille_Jospin-Dandieu_0001.jpg'"
      ]
     },
     "execution_count": 16,
     "metadata": {},
     "output_type": "execute_result"
    }
   ],
   "source": [
    "images[1]"
   ]
  },
  {
   "cell_type": "code",
   "execution_count": 22,
   "metadata": {
    "collapsed": false
   },
   "outputs": [
    {
     "data": {
      "text/html": [
       "<div style=\"max-height:1000px;max-width:1500px;overflow:auto;\">\n",
       "<table border=\"1\" class=\"dataframe\">\n",
       "  <thead>\n",
       "    <tr style=\"text-align: right;\">\n",
       "      <th></th>\n",
       "      <th>user.id</th>\n",
       "      <th>image</th>\n",
       "      <th>emotion</th>\n",
       "    </tr>\n",
       "  </thead>\n",
       "  <tbody>\n",
       "    <tr>\n",
       "      <th>8912</th>\n",
       "      <td> dwdii</td>\n",
       "      <td> Mireille_Jospin-Dandieu_0001.jpg</td>\n",
       "      <td> neutral</td>\n",
       "    </tr>\n",
       "  </tbody>\n",
       "</table>\n",
       "<p>1 rows × 3 columns</p>\n",
       "</div>"
      ],
      "text/plain": [
       "     user.id                             image  emotion\n",
       "8912   dwdii  Mireille_Jospin-Dandieu_0001.jpg  neutral\n",
       "\n",
       "[1 rows x 3 columns]"
      ]
     },
     "execution_count": 22,
     "metadata": {},
     "output_type": "execute_result"
    }
   ],
   "source": [
    "legend[(legend.image == images[1])]"
   ]
  },
  {
   "cell_type": "code",
   "execution_count": 25,
   "metadata": {
    "collapsed": false
   },
   "outputs": [
    {
     "data": {
      "text/plain": [
       "'Mireille_Jospin-Dandieu_0001.jpg'"
      ]
     },
     "execution_count": 25,
     "metadata": {},
     "output_type": "execute_result"
    }
   ],
   "source": [
    "legend.image[8912]"
   ]
  },
  {
   "cell_type": "code",
   "execution_count": 27,
   "metadata": {
    "collapsed": false
   },
   "outputs": [
    {
     "data": {
      "text/plain": [
       "'neutral'"
      ]
     },
     "execution_count": 27,
     "metadata": {},
     "output_type": "execute_result"
    }
   ],
   "source": [
    "legend.emotion[8912]"
   ]
  },
  {
   "cell_type": "code",
   "execution_count": 28,
   "metadata": {
    "collapsed": false
   },
   "outputs": [
    {
     "data": {
      "text/plain": [
       "array(['anger', 'surprise', 'disgust', 'fear', 'neutral', 'happiness',\n",
       "       'sadness', 'contempt', 'NEUTRAL', 'SADNESS', 'DISGUST', 'FEAR',\n",
       "       'SURPRISE', 'ANGER', 'HAPPINESS'], dtype=object)"
      ]
     },
     "execution_count": 28,
     "metadata": {},
     "output_type": "execute_result"
    }
   ],
   "source": [
    "legend.emotion.unique()"
   ]
  },
  {
   "cell_type": "code",
   "execution_count": 34,
   "metadata": {
    "collapsed": false
   },
   "outputs": [],
   "source": [
    "legend.emotion = legend['emotion'].str.lower()"
   ]
  },
  {
   "cell_type": "code",
   "execution_count": 35,
   "metadata": {
    "collapsed": false
   },
   "outputs": [
    {
     "data": {
      "text/plain": [
       "array(['anger', 'surprise', 'disgust', 'fear', 'neutral', 'happiness',\n",
       "       'sadness', 'contempt'], dtype=object)"
      ]
     },
     "execution_count": 35,
     "metadata": {},
     "output_type": "execute_result"
    }
   ],
   "source": [
    "legend.emotion.unique()"
   ]
  },
  {
   "cell_type": "code",
   "execution_count": 57,
   "metadata": {
    "collapsed": false
   },
   "outputs": [],
   "source": [
    "# get count of each emotion\n",
    "anger = legend.emotion.value_counts()['anger']\n",
    "surprise = legend.emotion.value_counts()['surprise']\n",
    "disgust = legend.emotion.value_counts()['disgust']\n",
    "fear = legend.emotion.value_counts()['fear']\n",
    "neutral = legend.emotion.value_counts()['neutral']\n",
    "happiness = legend.emotion.value_counts()['happiness']\n",
    "sadness = legend.emotion.value_counts()['sadness']\n",
    "contempt = legend.emotion.value_counts()['contempt']"
   ]
  },
  {
   "cell_type": "code",
   "execution_count": 70,
   "metadata": {
    "collapsed": false
   },
   "outputs": [],
   "source": [
    "legendcnt = pd.DataFrame({\n",
    "        'emotion': legend.emotion.unique(),\n",
    "        'emotioncount': (anger, surprise, disgust, fear,\n",
    "                          neutral, happiness, sadness, contempt) })"
   ]
  },
  {
   "cell_type": "code",
   "execution_count": 71,
   "metadata": {
    "collapsed": false
   },
   "outputs": [
    {
     "data": {
      "text/html": [
       "<div style=\"max-height:1000px;max-width:1500px;overflow:auto;\">\n",
       "<table border=\"1\" class=\"dataframe\">\n",
       "  <thead>\n",
       "    <tr style=\"text-align: right;\">\n",
       "      <th></th>\n",
       "      <th>emotion</th>\n",
       "      <th>emotioncount</th>\n",
       "    </tr>\n",
       "  </thead>\n",
       "  <tbody>\n",
       "    <tr>\n",
       "      <th>0</th>\n",
       "      <td>     anger</td>\n",
       "      <td>  252</td>\n",
       "    </tr>\n",
       "    <tr>\n",
       "      <th>1</th>\n",
       "      <td>  surprise</td>\n",
       "      <td>  368</td>\n",
       "    </tr>\n",
       "    <tr>\n",
       "      <th>2</th>\n",
       "      <td>   disgust</td>\n",
       "      <td>  208</td>\n",
       "    </tr>\n",
       "    <tr>\n",
       "      <th>3</th>\n",
       "      <td>      fear</td>\n",
       "      <td>   21</td>\n",
       "    </tr>\n",
       "    <tr>\n",
       "      <th>4</th>\n",
       "      <td>   neutral</td>\n",
       "      <td> 6868</td>\n",
       "    </tr>\n",
       "    <tr>\n",
       "      <th>5</th>\n",
       "      <td> happiness</td>\n",
       "      <td> 5696</td>\n",
       "    </tr>\n",
       "    <tr>\n",
       "      <th>6</th>\n",
       "      <td>   sadness</td>\n",
       "      <td>  268</td>\n",
       "    </tr>\n",
       "    <tr>\n",
       "      <th>7</th>\n",
       "      <td>  contempt</td>\n",
       "      <td>    9</td>\n",
       "    </tr>\n",
       "  </tbody>\n",
       "</table>\n",
       "<p>8 rows × 2 columns</p>\n",
       "</div>"
      ],
      "text/plain": [
       "     emotion  emotioncount\n",
       "0      anger           252\n",
       "1   surprise           368\n",
       "2    disgust           208\n",
       "3       fear            21\n",
       "4    neutral          6868\n",
       "5  happiness          5696\n",
       "6    sadness           268\n",
       "7   contempt             9\n",
       "\n",
       "[8 rows x 2 columns]"
      ]
     },
     "execution_count": 71,
     "metadata": {},
     "output_type": "execute_result"
    }
   ],
   "source": [
    "legendcnt"
   ]
  },
  {
   "cell_type": "code",
   "execution_count": 72,
   "metadata": {
    "collapsed": false
   },
   "outputs": [],
   "source": [
    "# increase anger, surprise, disgust, fear, sadness, contempt \n",
    "# to 6000 each using transformations\n",
    "legendcnt['trans'] = 0"
   ]
  },
  {
   "cell_type": "code",
   "execution_count": 73,
   "metadata": {
    "collapsed": false
   },
   "outputs": [
    {
     "data": {
      "text/html": [
       "<div style=\"max-height:1000px;max-width:1500px;overflow:auto;\">\n",
       "<table border=\"1\" class=\"dataframe\">\n",
       "  <thead>\n",
       "    <tr style=\"text-align: right;\">\n",
       "      <th></th>\n",
       "      <th>emotion</th>\n",
       "      <th>emotioncount</th>\n",
       "      <th>trans</th>\n",
       "    </tr>\n",
       "  </thead>\n",
       "  <tbody>\n",
       "    <tr>\n",
       "      <th>0</th>\n",
       "      <td>     anger</td>\n",
       "      <td>  252</td>\n",
       "      <td> 0</td>\n",
       "    </tr>\n",
       "    <tr>\n",
       "      <th>1</th>\n",
       "      <td>  surprise</td>\n",
       "      <td>  368</td>\n",
       "      <td> 0</td>\n",
       "    </tr>\n",
       "    <tr>\n",
       "      <th>2</th>\n",
       "      <td>   disgust</td>\n",
       "      <td>  208</td>\n",
       "      <td> 0</td>\n",
       "    </tr>\n",
       "    <tr>\n",
       "      <th>3</th>\n",
       "      <td>      fear</td>\n",
       "      <td>   21</td>\n",
       "      <td> 0</td>\n",
       "    </tr>\n",
       "    <tr>\n",
       "      <th>4</th>\n",
       "      <td>   neutral</td>\n",
       "      <td> 6868</td>\n",
       "      <td> 0</td>\n",
       "    </tr>\n",
       "    <tr>\n",
       "      <th>5</th>\n",
       "      <td> happiness</td>\n",
       "      <td> 5696</td>\n",
       "      <td> 0</td>\n",
       "    </tr>\n",
       "    <tr>\n",
       "      <th>6</th>\n",
       "      <td>   sadness</td>\n",
       "      <td>  268</td>\n",
       "      <td> 0</td>\n",
       "    </tr>\n",
       "    <tr>\n",
       "      <th>7</th>\n",
       "      <td>  contempt</td>\n",
       "      <td>    9</td>\n",
       "      <td> 0</td>\n",
       "    </tr>\n",
       "  </tbody>\n",
       "</table>\n",
       "<p>8 rows × 3 columns</p>\n",
       "</div>"
      ],
      "text/plain": [
       "     emotion  emotioncount  trans\n",
       "0      anger           252      0\n",
       "1   surprise           368      0\n",
       "2    disgust           208      0\n",
       "3       fear            21      0\n",
       "4    neutral          6868      0\n",
       "5  happiness          5696      0\n",
       "6    sadness           268      0\n",
       "7   contempt             9      0\n",
       "\n",
       "[8 rows x 3 columns]"
      ]
     },
     "execution_count": 73,
     "metadata": {},
     "output_type": "execute_result"
    }
   ],
   "source": [
    "legendcnt"
   ]
  },
  {
   "cell_type": "code",
   "execution_count": 81,
   "metadata": {
    "collapsed": false
   },
   "outputs": [],
   "source": [
    "import math\n",
    "legendcnt.trans[0] = math.ceil(6000/float(legendcnt.emotioncount[0]))\n",
    "legendcnt.trans[1] = math.ceil(6000/float(legendcnt.emotioncount[1]))\n",
    "legendcnt.trans[2] = math.ceil(6000/float(legendcnt.emotioncount[2]))\n",
    "legendcnt.trans[3] = math.ceil(6000/float(legendcnt.emotioncount[3]))\n",
    "legendcnt.trans[6] = math.ceil(6000/float(legendcnt.emotioncount[6]))\n",
    "legendcnt.trans[7] = math.ceil(6000/float(legendcnt.emotioncount[7]))"
   ]
  },
  {
   "cell_type": "code",
   "execution_count": 82,
   "metadata": {
    "collapsed": false
   },
   "outputs": [
    {
     "data": {
      "text/html": [
       "<div style=\"max-height:1000px;max-width:1500px;overflow:auto;\">\n",
       "<table border=\"1\" class=\"dataframe\">\n",
       "  <thead>\n",
       "    <tr style=\"text-align: right;\">\n",
       "      <th></th>\n",
       "      <th>emotion</th>\n",
       "      <th>emotioncount</th>\n",
       "      <th>trans</th>\n",
       "    </tr>\n",
       "  </thead>\n",
       "  <tbody>\n",
       "    <tr>\n",
       "      <th>0</th>\n",
       "      <td>     anger</td>\n",
       "      <td>  252</td>\n",
       "      <td>  24</td>\n",
       "    </tr>\n",
       "    <tr>\n",
       "      <th>1</th>\n",
       "      <td>  surprise</td>\n",
       "      <td>  368</td>\n",
       "      <td>  17</td>\n",
       "    </tr>\n",
       "    <tr>\n",
       "      <th>2</th>\n",
       "      <td>   disgust</td>\n",
       "      <td>  208</td>\n",
       "      <td>  29</td>\n",
       "    </tr>\n",
       "    <tr>\n",
       "      <th>3</th>\n",
       "      <td>      fear</td>\n",
       "      <td>   21</td>\n",
       "      <td> 286</td>\n",
       "    </tr>\n",
       "    <tr>\n",
       "      <th>4</th>\n",
       "      <td>   neutral</td>\n",
       "      <td> 6868</td>\n",
       "      <td>   0</td>\n",
       "    </tr>\n",
       "    <tr>\n",
       "      <th>5</th>\n",
       "      <td> happiness</td>\n",
       "      <td> 5696</td>\n",
       "      <td>   0</td>\n",
       "    </tr>\n",
       "    <tr>\n",
       "      <th>6</th>\n",
       "      <td>   sadness</td>\n",
       "      <td>  268</td>\n",
       "      <td>  23</td>\n",
       "    </tr>\n",
       "    <tr>\n",
       "      <th>7</th>\n",
       "      <td>  contempt</td>\n",
       "      <td>    9</td>\n",
       "      <td> 667</td>\n",
       "    </tr>\n",
       "  </tbody>\n",
       "</table>\n",
       "<p>8 rows × 3 columns</p>\n",
       "</div>"
      ],
      "text/plain": [
       "     emotion  emotioncount  trans\n",
       "0      anger           252     24\n",
       "1   surprise           368     17\n",
       "2    disgust           208     29\n",
       "3       fear            21    286\n",
       "4    neutral          6868      0\n",
       "5  happiness          5696      0\n",
       "6    sadness           268     23\n",
       "7   contempt             9    667\n",
       "\n",
       "[8 rows x 3 columns]"
      ]
     },
     "execution_count": 82,
     "metadata": {},
     "output_type": "execute_result"
    }
   ],
   "source": [
    "legendcnt"
   ]
  },
  {
   "cell_type": "code",
   "execution_count": 88,
   "metadata": {
    "collapsed": true
   },
   "outputs": [],
   "source": [
    "legendcnt['transcount'] = 0\n",
    "legendcnt.transcount[0] = legendcnt.emotioncount[0] * legendcnt.trans[0]\n",
    "legendcnt.transcount[1] = legendcnt.emotioncount[1] * legendcnt.trans[1]\n",
    "legendcnt.transcount[2] = legendcnt.emotioncount[2] * legendcnt.trans[2]\n",
    "legendcnt.transcount[3] = legendcnt.emotioncount[3] * legendcnt.trans[3]\n",
    "legendcnt.transcount[4] = legendcnt.emotioncount[4]\n",
    "legendcnt.transcount[5] = legendcnt.emotioncount[5]\n",
    "legendcnt.transcount[6] = legendcnt.emotioncount[6] * legendcnt.trans[6]\n",
    "legendcnt.transcount[7] = legendcnt.emotioncount[7] * legendcnt.trans[7]"
   ]
  },
  {
   "cell_type": "code",
   "execution_count": 89,
   "metadata": {
    "collapsed": false,
    "scrolled": true
   },
   "outputs": [
    {
     "data": {
      "text/html": [
       "<div style=\"max-height:1000px;max-width:1500px;overflow:auto;\">\n",
       "<table border=\"1\" class=\"dataframe\">\n",
       "  <thead>\n",
       "    <tr style=\"text-align: right;\">\n",
       "      <th></th>\n",
       "      <th>emotion</th>\n",
       "      <th>emotioncount</th>\n",
       "      <th>trans</th>\n",
       "      <th>transcount</th>\n",
       "    </tr>\n",
       "  </thead>\n",
       "  <tbody>\n",
       "    <tr>\n",
       "      <th>0</th>\n",
       "      <td>     anger</td>\n",
       "      <td>  252</td>\n",
       "      <td>  24</td>\n",
       "      <td> 6048</td>\n",
       "    </tr>\n",
       "    <tr>\n",
       "      <th>1</th>\n",
       "      <td>  surprise</td>\n",
       "      <td>  368</td>\n",
       "      <td>  17</td>\n",
       "      <td> 6256</td>\n",
       "    </tr>\n",
       "    <tr>\n",
       "      <th>2</th>\n",
       "      <td>   disgust</td>\n",
       "      <td>  208</td>\n",
       "      <td>  29</td>\n",
       "      <td> 6032</td>\n",
       "    </tr>\n",
       "    <tr>\n",
       "      <th>3</th>\n",
       "      <td>      fear</td>\n",
       "      <td>   21</td>\n",
       "      <td> 286</td>\n",
       "      <td> 6006</td>\n",
       "    </tr>\n",
       "    <tr>\n",
       "      <th>4</th>\n",
       "      <td>   neutral</td>\n",
       "      <td> 6868</td>\n",
       "      <td>   0</td>\n",
       "      <td> 6868</td>\n",
       "    </tr>\n",
       "    <tr>\n",
       "      <th>5</th>\n",
       "      <td> happiness</td>\n",
       "      <td> 5696</td>\n",
       "      <td>   0</td>\n",
       "      <td> 5696</td>\n",
       "    </tr>\n",
       "    <tr>\n",
       "      <th>6</th>\n",
       "      <td>   sadness</td>\n",
       "      <td>  268</td>\n",
       "      <td>  23</td>\n",
       "      <td> 6164</td>\n",
       "    </tr>\n",
       "    <tr>\n",
       "      <th>7</th>\n",
       "      <td>  contempt</td>\n",
       "      <td>    9</td>\n",
       "      <td> 667</td>\n",
       "      <td> 6003</td>\n",
       "    </tr>\n",
       "  </tbody>\n",
       "</table>\n",
       "<p>8 rows × 4 columns</p>\n",
       "</div>"
      ],
      "text/plain": [
       "     emotion  emotioncount  trans  transcount\n",
       "0      anger           252     24        6048\n",
       "1   surprise           368     17        6256\n",
       "2    disgust           208     29        6032\n",
       "3       fear            21    286        6006\n",
       "4    neutral          6868      0        6868\n",
       "5  happiness          5696      0        5696\n",
       "6    sadness           268     23        6164\n",
       "7   contempt             9    667        6003\n",
       "\n",
       "[8 rows x 4 columns]"
      ]
     },
     "execution_count": 89,
     "metadata": {},
     "output_type": "execute_result"
    }
   ],
   "source": [
    "legendcnt"
   ]
  },
  {
   "cell_type": "code",
   "execution_count": 90,
   "metadata": {
    "collapsed": false
   },
   "outputs": [
    {
     "data": {
      "text/plain": [
       "49073"
      ]
     },
     "execution_count": 90,
     "metadata": {},
     "output_type": "execute_result"
    }
   ],
   "source": [
    "legendcnt.transcount.sum(axis=1)"
   ]
  },
  {
   "cell_type": "code",
   "execution_count": null,
   "metadata": {
    "collapsed": true
   },
   "outputs": [],
   "source": []
  }
 ],
 "metadata": {
  "kernelspec": {
   "display_name": "Python 2",
   "language": "python",
   "name": "python2"
  },
  "language_info": {
   "codemirror_mode": {
    "name": "ipython",
    "version": 2
   },
   "file_extension": ".py",
   "mimetype": "text/x-python",
   "name": "python",
   "nbconvert_exporter": "python",
   "pygments_lexer": "ipython2",
   "version": "2.7.6"
  }
 },
 "nbformat": 4,
 "nbformat_minor": 0
}
