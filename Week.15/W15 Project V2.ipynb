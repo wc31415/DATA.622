{
 "cells": [
  {
   "cell_type": "code",
   "execution_count": 2,
   "metadata": {
    "collapsed": false
   },
   "outputs": [
    {
     "data": {
      "text/plain": [
       "array([0, 1, 2, 3, 4])"
      ]
     },
     "execution_count": 2,
     "metadata": {},
     "output_type": "execute_result"
    }
   ],
   "source": [
    "import os\n",
    "import pandas as pd\n",
    "import numpy as np\n",
    "from scipy import misc\n",
    "from sklearn.cross_validation import train_test_split\n",
    "from keras.utils import np_utils\n",
    "from keras.models import Sequential\n",
    "from keras.layers import Convolution2D, MaxPooling2D\n",
    "from keras.layers import Activation, Dropout, Flatten, Dense\n",
    "np.random.seed(31415) # for reproducibility\n",
    "\n",
    "legend = pd.read_csv(\"/root/sharedfolder/legend/legend-clean.csv\")\n",
    "legend_aug = pd.read_csv(\"/root/sharedfolder/legend/legend-aug.csv\")\n",
    "aug_path = \"/root/sharedfolder/images-aug/\"\n",
    "\n",
    "legend['emotion'] = legend['emotion'].str.lower()\n",
    "\n",
    "# 'neutral' = 0\n",
    "# 'happiness' = 1\n",
    "# 'surprise' = 2\n",
    "# 'anger' = 3\n",
    "# 'sadness' = 4\n",
    "# 'contempt' = 5\n",
    "# 'disgust' = 6\n",
    "# 'fear' = 7\n",
    "legend.replace('neutral', 0, inplace=True)\n",
    "legend.replace('happiness', 1, inplace=True)\n",
    "legend.replace('surprise', 2, inplace=True)\n",
    "legend.replace('anger', 3, inplace=True)\n",
    "legend.replace('sadness', 4, inplace=True)\n",
    "legend.replace('contempt', 5, inplace=True)\n",
    "legend.replace('disgust', 6, inplace=True)\n",
    "legend.replace('fear', 7, inplace=True)\n",
    "legend_aug.replace('surprise', 2, inplace=True)\n",
    "legend_aug.replace('anger', 3, inplace=True)\n",
    "legend_aug.replace('sadness', 4, inplace=True)\n",
    "legend_aug.replace('contempt', 5, inplace=True)\n",
    "legend_aug.replace('disgust', 6, inplace=True)\n",
    "legend_aug.replace('fear', 7, inplace=True)\n",
    "\n",
    "frames = [legend, legend_aug]\n",
    "new_legend = pd.concat(frames)\n",
    "\n",
    "# convert from secondary emotions to primary emotions\n",
    "new_legend.replace(5, 3, inplace=True)\n",
    "new_legend.replace(6, 3, inplace=True)\n",
    "new_legend.replace(2, 7, inplace=True)\n",
    "\n",
    "# convert 'fear' = 7 to 'fear' = 2 to maintain sequence\n",
    "# primary emotions\n",
    "# 'neutral' = 0\n",
    "# 'happiness' = 1\n",
    "# 'fear' = 2\n",
    "# 'anger' = 3\n",
    "# 'sadness' = 4\n",
    "new_legend.replace(7, 2, inplace=True)\n",
    "\n",
    "new_legend['emotion'].unique()"
   ]
  },
  {
   "cell_type": "code",
   "execution_count": 3,
   "metadata": {
    "collapsed": true
   },
   "outputs": [],
   "source": [
    "batch_size = 128\n",
    "nb_classes = 5\n",
    "nb_epoch = 12\n",
    "\n",
    "# input image dimensions\n",
    "img_rows, img_cols = 96, 96\n",
    "# number of convolutional filters to use\n",
    "nb_filters = 32\n",
    "# size of pooling area for max pooling\n",
    "pool_size = (5, 5)\n",
    "# convolution kernel size\n",
    "kernel_size = (10, 10)"
   ]
  },
  {
   "cell_type": "code",
   "execution_count": 4,
   "metadata": {
    "collapsed": true
   },
   "outputs": [],
   "source": [
    "# convert images to numpy.ndarray\n",
    "images = np.empty(shape=[len(new_legend), img_rows, img_cols])\n",
    "for i in range(0,len(new_legend)):\n",
    "    temp = aug_path + new_legend.iloc[i,0]\n",
    "    img = misc.imread(temp, flatten=True,)\n",
    "    img = misc.imresize(img, (img_rows, img_cols))\n",
    "    images[i] = img    "
   ]
  },
  {
   "cell_type": "code",
   "execution_count": 5,
   "metadata": {
    "collapsed": true
   },
   "outputs": [],
   "source": [
    "emotions = new_legend['emotion']"
   ]
  },
  {
   "cell_type": "code",
   "execution_count": 6,
   "metadata": {
    "collapsed": true
   },
   "outputs": [],
   "source": [
    "# the data, shuffled and split between train and test sets\n",
    "X_train, X_test, y_train, y_test = train_test_split(images, emotions, test_size=0.2)"
   ]
  },
  {
   "cell_type": "code",
   "execution_count": 7,
   "metadata": {
    "collapsed": false
   },
   "outputs": [
    {
     "data": {
      "text/plain": [
       "(28928, 96, 96)"
      ]
     },
     "execution_count": 7,
     "metadata": {},
     "output_type": "execute_result"
    }
   ],
   "source": [
    "X_train.shape"
   ]
  },
  {
   "cell_type": "code",
   "execution_count": 8,
   "metadata": {
    "collapsed": false
   },
   "outputs": [
    {
     "data": {
      "text/plain": [
       "(7233, 96, 96)"
      ]
     },
     "execution_count": 8,
     "metadata": {},
     "output_type": "execute_result"
    }
   ],
   "source": [
    "X_test.shape"
   ]
  },
  {
   "cell_type": "code",
   "execution_count": 9,
   "metadata": {
    "collapsed": true
   },
   "outputs": [],
   "source": [
    "img_rows, img_cols = X_train.shape[1], X_train.shape[2]\n",
    "X_train = X_train.reshape(X_train.shape[0], 1, img_rows, img_cols)\n",
    "X_test = X_test.reshape(X_test.shape[0], 1, img_rows, img_cols)"
   ]
  },
  {
   "cell_type": "code",
   "execution_count": 10,
   "metadata": {
    "collapsed": false
   },
   "outputs": [
    {
     "data": {
      "text/plain": [
       "(28928, 1, 96, 96)"
      ]
     },
     "execution_count": 10,
     "metadata": {},
     "output_type": "execute_result"
    }
   ],
   "source": [
    "X_train.shape"
   ]
  },
  {
   "cell_type": "code",
   "execution_count": 11,
   "metadata": {
    "collapsed": false
   },
   "outputs": [
    {
     "data": {
      "text/plain": [
       "(7233, 1, 96, 96)"
      ]
     },
     "execution_count": 11,
     "metadata": {},
     "output_type": "execute_result"
    }
   ],
   "source": [
    "X_test.shape"
   ]
  },
  {
   "cell_type": "code",
   "execution_count": 12,
   "metadata": {
    "collapsed": true
   },
   "outputs": [],
   "source": [
    "input_shape = (1, img_rows, img_cols)"
   ]
  },
  {
   "cell_type": "code",
   "execution_count": 13,
   "metadata": {
    "collapsed": false
   },
   "outputs": [
    {
     "name": "stdout",
     "output_type": "stream",
     "text": [
      "('X_train shape:', (28928, 1, 96, 96))\n",
      "(28928, 'train samples')\n",
      "(7233, 'test samples')\n",
      "Train on 28928 samples, validate on 7233 samples\n",
      "Epoch 1/12\n",
      "28928/28928 [==============================] - 9876s - loss: 1.2416 - acc: 0.4652 - val_loss: 0.9478 - val_acc: 0.6118\n",
      "Epoch 2/12\n",
      "28928/28928 [==============================] - 9762s - loss: 0.9588 - acc: 0.6034 - val_loss: 0.8243 - val_acc: 0.6621\n",
      "Epoch 3/12\n",
      "28928/28928 [==============================] - 9856s - loss: 0.8370 - acc: 0.6585 - val_loss: 0.7645 - val_acc: 0.6891\n",
      "Epoch 4/12\n",
      "28928/28928 [==============================] - 9770s - loss: 0.7566 - acc: 0.6956 - val_loss: 0.6854 - val_acc: 0.7153\n",
      "Epoch 5/12\n",
      "28928/28928 [==============================] - 9614s - loss: 0.6901 - acc: 0.7222 - val_loss: 0.6263 - val_acc: 0.7419\n",
      "Epoch 6/12\n",
      "28928/28928 [==============================] - 9637s - loss: 0.6432 - acc: 0.7445 - val_loss: 0.5798 - val_acc: 0.7704\n",
      "Epoch 7/12\n",
      "28928/28928 [==============================] - 9519s - loss: 0.6023 - acc: 0.7624 - val_loss: 0.6042 - val_acc: 0.7654\n",
      "Epoch 8/12\n",
      "28928/28928 [==============================] - 9542s - loss: 0.5609 - acc: 0.7810 - val_loss: 0.5309 - val_acc: 0.7892\n",
      "Epoch 9/12\n",
      "28928/28928 [==============================] - 9493s - loss: 0.5252 - acc: 0.7928 - val_loss: 0.5240 - val_acc: 0.7914\n",
      "Epoch 10/12\n",
      "28928/28928 [==============================] - 9724s - loss: 0.4990 - acc: 0.8043 - val_loss: 0.5062 - val_acc: 0.8015\n",
      "Epoch 11/12\n",
      "28928/28928 [==============================] - 9831s - loss: 0.4711 - acc: 0.8136 - val_loss: 0.4865 - val_acc: 0.8147\n",
      "Epoch 12/12\n",
      "28928/28928 [==============================] - 9935s - loss: 0.4512 - acc: 0.8230 - val_loss: 0.4744 - val_acc: 0.8201\n",
      "('Test score:', 0.47436259658722629)\n",
      "('Test accuracy:', 0.82012995990598647)\n"
     ]
    }
   ],
   "source": [
    "X_train = X_train.astype('float32')\n",
    "X_test = X_test.astype('float32')\n",
    "X_train /= 255\n",
    "X_test /= 255\n",
    "print('X_train shape:', X_train.shape)\n",
    "print(X_train.shape[0], 'train samples')\n",
    "print(X_test.shape[0], 'test samples')\n",
    "\n",
    "# convert class vectors to binary class matrices\n",
    "Y_train = np_utils.to_categorical(y_train, nb_classes)\n",
    "Y_test = np_utils.to_categorical(y_test, nb_classes)\n",
    "\n",
    "model = Sequential()\n",
    "\n",
    "model.add(Convolution2D(nb_filters, kernel_size[0], kernel_size[1],\n",
    "                        border_mode='valid',\n",
    "                        input_shape=input_shape))\n",
    "model.add(Activation('relu'))\n",
    "model.add(Convolution2D(nb_filters, kernel_size[0], kernel_size[1]))\n",
    "model.add(Activation('relu'))\n",
    "model.add(MaxPooling2D(pool_size=pool_size))\n",
    "model.add(Dropout(0.25))\n",
    "\n",
    "model.add(Flatten())\n",
    "model.add(Dense(128))\n",
    "model.add(Activation('relu'))\n",
    "model.add(Dropout(0.5))\n",
    "model.add(Dense(nb_classes))\n",
    "model.add(Activation('softmax'))\n",
    "\n",
    "model.compile(loss='categorical_crossentropy',\n",
    "              optimizer='adadelta',\n",
    "              metrics=['accuracy'])\n",
    "\n",
    "model.fit(X_train, Y_train, batch_size=batch_size, nb_epoch=nb_epoch,\n",
    "          verbose=1, validation_data=(X_test, Y_test))\n",
    "score = model.evaluate(X_test, Y_test, verbose=0)\n",
    "print('Test score:', score[0])\n",
    "print('Test accuracy:', score[1])"
   ]
  },
  {
   "cell_type": "code",
   "execution_count": null,
   "metadata": {
    "collapsed": true
   },
   "outputs": [],
   "source": []
  }
 ],
 "metadata": {
  "kernelspec": {
   "display_name": "Python 2",
   "language": "python",
   "name": "python2"
  },
  "language_info": {
   "codemirror_mode": {
    "name": "ipython",
    "version": 2
   },
   "file_extension": ".py",
   "mimetype": "text/x-python",
   "name": "python",
   "nbconvert_exporter": "python",
   "pygments_lexer": "ipython2",
   "version": "2.7.6"
  }
 },
 "nbformat": 4,
 "nbformat_minor": 0
}
