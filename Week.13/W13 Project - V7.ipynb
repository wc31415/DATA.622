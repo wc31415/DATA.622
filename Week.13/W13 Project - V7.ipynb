{
 "cells": [
  {
   "cell_type": "code",
   "execution_count": 1,
   "metadata": {
    "collapsed": false
   },
   "outputs": [
    {
     "name": "stderr",
     "output_type": "stream",
     "text": [
      "Using Theano backend.\n"
     ]
    }
   ],
   "source": [
    "import os\n",
    "import pandas as pd\n",
    "import numpy as np\n",
    "from scipy import misc\n",
    "from keras.models import Sequential\n",
    "from keras.layers import Convolution2D, MaxPooling2D\n",
    "from keras.layers import Activation, Dropout, Flatten, Dense\n",
    "\n",
    "images = os.listdir(\"/root/sharedfolder/clean\")\n",
    "legend = pd.read_csv(\"/root/sharedfolder/legend/legend-clean.csv\")"
   ]
  },
  {
   "cell_type": "code",
   "execution_count": 2,
   "metadata": {
    "collapsed": true
   },
   "outputs": [],
   "source": [
    "legend.emotion = legend['emotion'].str.lower()\n",
    "emo = legend.emotion.unique()"
   ]
  },
  {
   "cell_type": "code",
   "execution_count": 3,
   "metadata": {
    "collapsed": false
   },
   "outputs": [
    {
     "data": {
      "text/plain": [
       "10260.75"
      ]
     },
     "execution_count": 3,
     "metadata": {},
     "output_type": "execute_result"
    }
   ],
   "source": [
    "# split images into training (75%) and testing (25%) datasets\n",
    "len(images)*0.75"
   ]
  },
  {
   "cell_type": "code",
   "execution_count": 4,
   "metadata": {
    "collapsed": true
   },
   "outputs": [],
   "source": [
    "# training\n",
    "training = images[0:10260]\n",
    "labels_training = [None] * len(training)\n",
    "for i in range(0,len(training)):\n",
    "    x = legend.loc[legend['image']==training[i]]\n",
    "    labels_training[i] = x.iloc[0,1]   "
   ]
  },
  {
   "cell_type": "code",
   "execution_count": 5,
   "metadata": {
    "collapsed": true
   },
   "outputs": [],
   "source": [
    "# testing\n",
    "testing = images[10260:]\n",
    "labels_testing = [None] * len(testing)\n",
    "for i in range(0,len(testing)):\n",
    "    x = legend.loc[legend['image']==testing[i]]\n",
    "    labels_testing[i] = x.iloc[0,1]"
   ]
  },
  {
   "cell_type": "code",
   "execution_count": 6,
   "metadata": {
    "collapsed": true
   },
   "outputs": [],
   "source": [
    "img_path = \"/root/sharedfolder/clean/\""
   ]
  },
  {
   "cell_type": "code",
   "execution_count": 7,
   "metadata": {
    "collapsed": true
   },
   "outputs": [],
   "source": [
    "# convert images to numpy.ndarray\n",
    "\n",
    "# training\n",
    "X_train = [None] * len(training)\n",
    "for i in range(0,len(training)):\n",
    "    temp = img_path + training[i]\n",
    "    X_train[i] = misc.imread(temp)"
   ]
  },
  {
   "cell_type": "code",
   "execution_count": 8,
   "metadata": {
    "collapsed": true
   },
   "outputs": [],
   "source": [
    "X_train = np.asarray(X_train)"
   ]
  },
  {
   "cell_type": "code",
   "execution_count": 9,
   "metadata": {
    "collapsed": true
   },
   "outputs": [],
   "source": [
    "# testing\n",
    "X_test = [None] * len(testing)\n",
    "for i in range(0,len(testing)):\n",
    "    temp = img_path + testing[i]\n",
    "    X_test[i] = misc.imread(temp)"
   ]
  },
  {
   "cell_type": "code",
   "execution_count": 10,
   "metadata": {
    "collapsed": true
   },
   "outputs": [],
   "source": [
    "X_test = np.asarray(X_test)"
   ]
  },
  {
   "cell_type": "code",
   "execution_count": 11,
   "metadata": {
    "collapsed": false
   },
   "outputs": [
    {
     "data": {
      "text/plain": [
       "array(['neutral', 'happiness', 'surprise', 'anger', 'sadness', 'contempt',\n",
       "       'disgust', 'fear'], dtype=object)"
      ]
     },
     "execution_count": 11,
     "metadata": {},
     "output_type": "execute_result"
    }
   ],
   "source": [
    "# create training (y_train) and testing labels (y_test)\n",
    "# 'neutral' = 0\n",
    "# 'happiness' = 1\n",
    "# 'surprise' = 2\n",
    "# 'anger' = 3\n",
    "# 'sadness' = 4\n",
    "# 'contempt' = 5\n",
    "# 'disgust' = 6\n",
    "# 'fear' = 7\n",
    "emo"
   ]
  },
  {
   "cell_type": "code",
   "execution_count": 12,
   "metadata": {
    "collapsed": true
   },
   "outputs": [],
   "source": [
    "y_train = [None] * len(training)\n",
    "y_test = [None] * len(testing)"
   ]
  },
  {
   "cell_type": "code",
   "execution_count": 13,
   "metadata": {
    "collapsed": true
   },
   "outputs": [],
   "source": [
    "def convert_emo(labels, y, emo, emo_num):\n",
    "    temp0 = np.array(labels)\n",
    "    temp1 = np.where(temp0 == emo)[0]\n",
    "    for i in range(0,len(temp1)):\n",
    "        y[temp1[i]] = emo_num "
   ]
  },
  {
   "cell_type": "code",
   "execution_count": 14,
   "metadata": {
    "collapsed": true
   },
   "outputs": [],
   "source": [
    "for i in range(0,len(emo)):\n",
    "    convert_emo(labels_training, y_train, emo[i], i)\n",
    "    convert_emo(labels_testing, y_test, emo[i], i)"
   ]
  },
  {
   "cell_type": "code",
   "execution_count": 15,
   "metadata": {
    "collapsed": true
   },
   "outputs": [],
   "source": [
    "y_train = np.asarray(y_train)\n",
    "y_test = np.asarray(y_test)"
   ]
  },
  {
   "cell_type": "code",
   "execution_count": 16,
   "metadata": {
    "collapsed": true
   },
   "outputs": [],
   "source": [
    "batch_size = 128\n",
    "nb_classes = 8\n",
    "nb_epoch = 12\n",
    "\n",
    "# input image dimensions\n",
    "img_rows, img_cols = 350, 350\n",
    "# number of convolutional filters to use\n",
    "nb_filters = 32\n",
    "# size of pooling area for max pooling\n",
    "pool_size = (2, 2)\n",
    "# convolution kernel size\n",
    "kernel_size = (3, 3)"
   ]
  },
  {
   "cell_type": "code",
   "execution_count": 17,
   "metadata": {
    "collapsed": false
   },
   "outputs": [
    {
     "ename": "ValueError",
     "evalue": "total size of new array must be unchanged",
     "output_type": "error",
     "traceback": [
      "\u001b[1;31m---------------------------------------------------------------------------\u001b[0m",
      "\u001b[1;31mValueError\u001b[0m                                Traceback (most recent call last)",
      "\u001b[1;32m<ipython-input-17-6dfb427c074f>\u001b[0m in \u001b[0;36m<module>\u001b[1;34m()\u001b[0m\n\u001b[1;32m----> 1\u001b[1;33m \u001b[0mX_train\u001b[0m \u001b[1;33m=\u001b[0m \u001b[0mX_train\u001b[0m\u001b[1;33m.\u001b[0m\u001b[0mreshape\u001b[0m\u001b[1;33m(\u001b[0m\u001b[0mX_train\u001b[0m\u001b[1;33m.\u001b[0m\u001b[0mshape\u001b[0m\u001b[1;33m[\u001b[0m\u001b[1;36m0\u001b[0m\u001b[1;33m]\u001b[0m\u001b[1;33m,\u001b[0m \u001b[0mimg_rows\u001b[0m\u001b[1;33m,\u001b[0m \u001b[0mimg_cols\u001b[0m\u001b[1;33m,\u001b[0m \u001b[1;36m1\u001b[0m\u001b[1;33m)\u001b[0m\u001b[1;33m\u001b[0m\u001b[0m\n\u001b[0m",
      "\u001b[1;31mValueError\u001b[0m: total size of new array must be unchanged"
     ]
    }
   ],
   "source": [
    "X_train = X_train.reshape(X_train.shape[0], img_rows, img_cols, 1)"
   ]
  },
  {
   "cell_type": "code",
   "execution_count": 18,
   "metadata": {
    "collapsed": false
   },
   "outputs": [
    {
     "data": {
      "text/plain": [
       "10260"
      ]
     },
     "execution_count": 18,
     "metadata": {},
     "output_type": "execute_result"
    }
   ],
   "source": [
    "len(X_train)"
   ]
  },
  {
   "cell_type": "code",
   "execution_count": 19,
   "metadata": {
    "collapsed": false
   },
   "outputs": [
    {
     "data": {
      "text/plain": [
       "numpy.ndarray"
      ]
     },
     "execution_count": 19,
     "metadata": {},
     "output_type": "execute_result"
    }
   ],
   "source": [
    "type(X_train)"
   ]
  },
  {
   "cell_type": "code",
   "execution_count": 20,
   "metadata": {
    "collapsed": false
   },
   "outputs": [
    {
     "data": {
      "text/plain": [
       "10260"
      ]
     },
     "execution_count": 20,
     "metadata": {},
     "output_type": "execute_result"
    }
   ],
   "source": [
    "X_train.shape[0]"
   ]
  },
  {
   "cell_type": "code",
   "execution_count": 21,
   "metadata": {
    "collapsed": false
   },
   "outputs": [
    {
     "data": {
      "text/plain": [
       "array([[ 65,  64,  62, ..., 105, 105, 105],\n",
       "       [ 65,  65,  62, ..., 105, 105, 105],\n",
       "       [ 64,  63,  61, ..., 105, 105, 105],\n",
       "       ..., \n",
       "       [ 41,  41,  41, ...,  27,  27,  27],\n",
       "       [ 41,  41,  41, ...,  28,  28,  28],\n",
       "       [ 41,  41,  41, ...,  28,  29,  28]], dtype=uint8)"
      ]
     },
     "execution_count": 21,
     "metadata": {},
     "output_type": "execute_result"
    }
   ],
   "source": [
    "X_train[0]"
   ]
  },
  {
   "cell_type": "code",
   "execution_count": 22,
   "metadata": {
    "collapsed": false
   },
   "outputs": [
    {
     "data": {
      "text/plain": [
       "350"
      ]
     },
     "execution_count": 22,
     "metadata": {},
     "output_type": "execute_result"
    }
   ],
   "source": [
    "len(X_train[0])"
   ]
  },
  {
   "cell_type": "code",
   "execution_count": 23,
   "metadata": {
    "collapsed": false
   },
   "outputs": [
    {
     "data": {
      "text/plain": [
       "array([ 65,  64,  62,  59,  56,  54,  54,  54,  53,  54,  55,  56,  56,\n",
       "        58,  61,  63,  66,  69,  73,  77,  80,  83,  86,  89,  93,  99,\n",
       "       105, 110, 117, 123, 129, 135, 142, 144, 146, 148, 149, 150, 151,\n",
       "       152, 154, 155, 157, 159, 161, 164, 167, 169, 171, 175, 178, 181,\n",
       "       185, 188, 192, 197, 200, 205, 210, 214, 218, 221, 223, 226, 227,\n",
       "       227, 228, 228, 229, 229, 230, 230, 231, 231, 232, 232, 233, 234,\n",
       "       235, 236, 236, 237, 238, 238, 239, 240, 240, 240, 242, 241, 241,\n",
       "       241, 240, 240, 239, 238, 239, 238, 238, 238, 237, 237, 236, 236,\n",
       "       235, 234, 233, 231, 230, 228, 226, 225, 224, 223, 222, 221, 221,\n",
       "       220, 220, 219, 217, 215, 214, 213, 212, 211, 210, 210, 209, 209,\n",
       "       209, 208, 208, 208, 208, 209, 209, 209, 209, 209, 208, 207, 206,\n",
       "       205, 205, 204, 204, 205, 205, 206, 208, 210, 211, 213, 214, 215,\n",
       "       216, 217, 218, 218, 220, 220, 221, 221, 221, 221, 221, 221, 221,\n",
       "       222, 222, 222, 222, 222, 221, 220, 219, 218, 216, 215, 214, 213,\n",
       "       212, 211, 209, 208, 205, 203, 201, 199, 198, 197, 196, 195, 194,\n",
       "       194, 193, 192, 192, 193, 192, 193, 194, 194, 194, 195, 196, 197,\n",
       "       197, 197, 196, 196, 196, 197, 196, 196, 196, 196, 196, 197, 197,\n",
       "       198, 199, 200, 201, 202, 203, 203, 204, 204, 206, 208, 209, 210,\n",
       "       211, 212, 212, 213, 214, 214, 214, 214, 214, 214, 213, 213, 213,\n",
       "       213, 213, 214, 215, 215, 216, 216, 217, 217, 217, 217, 216, 213,\n",
       "       210, 207, 203, 200, 196, 194, 190, 188, 185, 183, 181, 181, 181,\n",
       "       181, 181, 181, 180, 178, 174, 172, 167, 161, 154, 147, 141, 136,\n",
       "       130, 123, 118, 113, 108, 105, 101,  97,  94,  91,  89,  87,  85,\n",
       "        83,  81,  79,  76,  75,  71,  70,  69,  68,  68,  69,  70,  71,\n",
       "        71,  73,  75,  76,  77,  79,  79,  79,  79,  77,  76,  75,  75,\n",
       "        74,  74,  75,  76,  77,  79,  81,  83,  86,  89,  92,  95,  98,\n",
       "       101, 104, 105, 107, 107, 107, 107, 107, 106, 105, 105, 105], dtype=uint8)"
      ]
     },
     "execution_count": 23,
     "metadata": {},
     "output_type": "execute_result"
    }
   ],
   "source": [
    "X_train[0][0]"
   ]
  },
  {
   "cell_type": "code",
   "execution_count": 24,
   "metadata": {
    "collapsed": false
   },
   "outputs": [
    {
     "data": {
      "text/plain": [
       "350"
      ]
     },
     "execution_count": 24,
     "metadata": {},
     "output_type": "execute_result"
    }
   ],
   "source": [
    "len(X_train[0][0])"
   ]
  },
  {
   "cell_type": "code",
   "execution_count": null,
   "metadata": {
    "collapsed": true
   },
   "outputs": [],
   "source": []
  }
 ],
 "metadata": {
  "kernelspec": {
   "display_name": "Python 2",
   "language": "python",
   "name": "python2"
  },
  "language_info": {
   "codemirror_mode": {
    "name": "ipython",
    "version": 2
   },
   "file_extension": ".py",
   "mimetype": "text/x-python",
   "name": "python",
   "nbconvert_exporter": "python",
   "pygments_lexer": "ipython2",
   "version": "2.7.6"
  }
 },
 "nbformat": 4,
 "nbformat_minor": 0
}
