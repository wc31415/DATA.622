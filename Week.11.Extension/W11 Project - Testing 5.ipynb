{
 "cells": [
  {
   "cell_type": "code",
   "execution_count": 63,
   "metadata": {
    "collapsed": false
   },
   "outputs": [
    {
     "data": {
      "text/html": [
       "<div style=\"max-height:1000px;max-width:1500px;overflow:auto;\">\n",
       "<table border=\"1\" class=\"dataframe\">\n",
       "  <thead>\n",
       "    <tr style=\"text-align: right;\">\n",
       "      <th></th>\n",
       "      <th>emotion</th>\n",
       "      <th>emotionCnt</th>\n",
       "    </tr>\n",
       "  </thead>\n",
       "  <tbody>\n",
       "    <tr>\n",
       "      <th>0</th>\n",
       "      <td>     anger</td>\n",
       "      <td>  252</td>\n",
       "    </tr>\n",
       "    <tr>\n",
       "      <th>1</th>\n",
       "      <td>  surprise</td>\n",
       "      <td>  368</td>\n",
       "    </tr>\n",
       "    <tr>\n",
       "      <th>2</th>\n",
       "      <td>   disgust</td>\n",
       "      <td>  208</td>\n",
       "    </tr>\n",
       "    <tr>\n",
       "      <th>3</th>\n",
       "      <td>      fear</td>\n",
       "      <td>   21</td>\n",
       "    </tr>\n",
       "    <tr>\n",
       "      <th>4</th>\n",
       "      <td>   neutral</td>\n",
       "      <td> 6868</td>\n",
       "    </tr>\n",
       "    <tr>\n",
       "      <th>5</th>\n",
       "      <td> happiness</td>\n",
       "      <td> 5696</td>\n",
       "    </tr>\n",
       "    <tr>\n",
       "      <th>6</th>\n",
       "      <td>   sadness</td>\n",
       "      <td>  268</td>\n",
       "    </tr>\n",
       "    <tr>\n",
       "      <th>7</th>\n",
       "      <td>  contempt</td>\n",
       "      <td>    9</td>\n",
       "    </tr>\n",
       "  </tbody>\n",
       "</table>\n",
       "<p>8 rows × 2 columns</p>\n",
       "</div>"
      ],
      "text/plain": [
       "     emotion  emotionCnt\n",
       "0      anger         252\n",
       "1   surprise         368\n",
       "2    disgust         208\n",
       "3       fear          21\n",
       "4    neutral        6868\n",
       "5  happiness        5696\n",
       "6    sadness         268\n",
       "7   contempt           9\n",
       "\n",
       "[8 rows x 2 columns]"
      ]
     },
     "execution_count": 63,
     "metadata": {},
     "output_type": "execute_result"
    }
   ],
   "source": [
    "import os\n",
    "import pandas as pd\n",
    "import math\n",
    "from keras.preprocessing.image import ImageDataGenerator, img_to_array, load_img\n",
    "from keras.models import Sequential\n",
    "from keras.layers import Convolution2D, MaxPooling2D\n",
    "from keras.layers import Activation, Dropout, Flatten, Dense\n",
    "\n",
    "# read in images and legend\n",
    "imagesDir = \"/root/sharedfolder/images\"\n",
    "images = os.listdir(imagesDir)\n",
    "legend = pd.read_csv(\"/root/sharedfolder/data/legend.csv\")\n",
    "\n",
    "# convert all emotions classifications to lower-case\n",
    "legend.emotion = legend['emotion'].str.lower()\n",
    "\n",
    "# get count of each emotion\n",
    "anger = legend.emotion.value_counts()['anger']\n",
    "surprise = legend.emotion.value_counts()['surprise']\n",
    "disgust = legend.emotion.value_counts()['disgust']\n",
    "fear = legend.emotion.value_counts()['fear']\n",
    "neutral = legend.emotion.value_counts()['neutral']\n",
    "happiness = legend.emotion.value_counts()['happiness']\n",
    "sadness = legend.emotion.value_counts()['sadness']\n",
    "contempt = legend.emotion.value_counts()['contempt']\n",
    "\n",
    "legendCnt = pd.DataFrame({\n",
    "        'emotion': legend.emotion.unique(),\n",
    "        'emotionCnt': (anger, surprise, disgust, fear,\n",
    "                       neutral, happiness, sadness, contempt) })\n",
    "\n",
    "legendCnt"
   ]
  },
  {
   "cell_type": "code",
   "execution_count": 64,
   "metadata": {
    "collapsed": false
   },
   "outputs": [
    {
     "data": {
      "text/html": [
       "<div style=\"max-height:1000px;max-width:1500px;overflow:auto;\">\n",
       "<table border=\"1\" class=\"dataframe\">\n",
       "  <thead>\n",
       "    <tr style=\"text-align: right;\">\n",
       "      <th></th>\n",
       "      <th>emotion</th>\n",
       "      <th>emotionCnt</th>\n",
       "      <th>trans</th>\n",
       "      <th>transCnt</th>\n",
       "    </tr>\n",
       "  </thead>\n",
       "  <tbody>\n",
       "    <tr>\n",
       "      <th>0</th>\n",
       "      <td>     anger</td>\n",
       "      <td>  252</td>\n",
       "      <td>  24</td>\n",
       "      <td> 6048</td>\n",
       "    </tr>\n",
       "    <tr>\n",
       "      <th>1</th>\n",
       "      <td>  surprise</td>\n",
       "      <td>  368</td>\n",
       "      <td>  17</td>\n",
       "      <td> 6256</td>\n",
       "    </tr>\n",
       "    <tr>\n",
       "      <th>2</th>\n",
       "      <td>   disgust</td>\n",
       "      <td>  208</td>\n",
       "      <td>  29</td>\n",
       "      <td> 6032</td>\n",
       "    </tr>\n",
       "    <tr>\n",
       "      <th>3</th>\n",
       "      <td>      fear</td>\n",
       "      <td>   21</td>\n",
       "      <td> 286</td>\n",
       "      <td> 6006</td>\n",
       "    </tr>\n",
       "    <tr>\n",
       "      <th>4</th>\n",
       "      <td>   neutral</td>\n",
       "      <td> 6868</td>\n",
       "      <td>   0</td>\n",
       "      <td> 6868</td>\n",
       "    </tr>\n",
       "    <tr>\n",
       "      <th>5</th>\n",
       "      <td> happiness</td>\n",
       "      <td> 5696</td>\n",
       "      <td>   0</td>\n",
       "      <td> 5696</td>\n",
       "    </tr>\n",
       "    <tr>\n",
       "      <th>6</th>\n",
       "      <td>   sadness</td>\n",
       "      <td>  268</td>\n",
       "      <td>  23</td>\n",
       "      <td> 6164</td>\n",
       "    </tr>\n",
       "    <tr>\n",
       "      <th>7</th>\n",
       "      <td>  contempt</td>\n",
       "      <td>    9</td>\n",
       "      <td> 667</td>\n",
       "      <td> 6003</td>\n",
       "    </tr>\n",
       "  </tbody>\n",
       "</table>\n",
       "<p>8 rows × 4 columns</p>\n",
       "</div>"
      ],
      "text/plain": [
       "     emotion  emotionCnt  trans  transCnt\n",
       "0      anger         252     24      6048\n",
       "1   surprise         368     17      6256\n",
       "2    disgust         208     29      6032\n",
       "3       fear          21    286      6006\n",
       "4    neutral        6868      0      6868\n",
       "5  happiness        5696      0      5696\n",
       "6    sadness         268     23      6164\n",
       "7   contempt           9    667      6003\n",
       "\n",
       "[8 rows x 4 columns]"
      ]
     },
     "execution_count": 64,
     "metadata": {},
     "output_type": "execute_result"
    }
   ],
   "source": [
    "# increase anger, surprise, disgust, fear, sadness, contempt \n",
    "# to 6000 each using transformations\n",
    "legendCnt['trans'] = 0\n",
    "\n",
    "legendCnt.trans[0] = math.ceil(6000/float(legendCnt.emotionCnt[0]))\n",
    "legendCnt.trans[1] = math.ceil(6000/float(legendCnt.emotionCnt[1]))\n",
    "legendCnt.trans[2] = math.ceil(6000/float(legendCnt.emotionCnt[2]))\n",
    "legendCnt.trans[3] = math.ceil(6000/float(legendCnt.emotionCnt[3]))\n",
    "legendCnt.trans[6] = math.ceil(6000/float(legendCnt.emotionCnt[6]))\n",
    "legendCnt.trans[7] = math.ceil(6000/float(legendCnt.emotionCnt[7]))\n",
    "\n",
    "legendCnt['transCnt'] = 0\n",
    "legendCnt.transCnt[0] = legendCnt.emotionCnt[0] * legendCnt.trans[0]\n",
    "legendCnt.transCnt[1] = legendCnt.emotionCnt[1] * legendCnt.trans[1]\n",
    "legendCnt.transCnt[2] = legendCnt.emotionCnt[2] * legendCnt.trans[2]\n",
    "legendCnt.transCnt[3] = legendCnt.emotionCnt[3] * legendCnt.trans[3]\n",
    "legendCnt.transCnt[4] = legendCnt.emotionCnt[4]\n",
    "legendCnt.transCnt[5] = legendCnt.emotionCnt[5]\n",
    "legendCnt.transCnt[6] = legendCnt.emotionCnt[6] * legendCnt.trans[6]\n",
    "legendCnt.transCnt[7] = legendCnt.emotionCnt[7] * legendCnt.trans[7]\n",
    "\n",
    "legendCnt"
   ]
  },
  {
   "cell_type": "code",
   "execution_count": 65,
   "metadata": {
    "collapsed": false
   },
   "outputs": [
    {
     "data": {
      "text/plain": [
       "49073"
      ]
     },
     "execution_count": 65,
     "metadata": {},
     "output_type": "execute_result"
    }
   ],
   "source": [
    "legendCnt.transCnt.sum(axis=1)"
   ]
  },
  {
   "cell_type": "code",
   "execution_count": 80,
   "metadata": {
    "collapsed": false
   },
   "outputs": [],
   "source": [
    "# augment anger, surprise, disgust, fear, sadness, contempt \n",
    "def picAugment(inDir, emoImg, augSize):\n",
    "           \n",
    "    # Using keras ImageDataGenerator to generate random images\n",
    "    datagen = ImageDataGenerator(\n",
    "        rotation_range = 40,\n",
    "        width_shift_range = 0.2,\n",
    "        height_shift_range = 0.2,\n",
    "        shear_range = 0.2,\n",
    "        zoom_range = 0.2,\n",
    "        horizontal_flip = True,\n",
    "        vertical_flip = True)    \n",
    "          \n",
    "    for i in range(0,len(emoImg)):\n",
    "        img = load_img(os.path.join(inDir, emoImg.iloc[i,1]))\n",
    "        x = img_to_array(img)\n",
    "        x = x.reshape((1,) + x.shape)\n",
    "        j = 0\n",
    "        for batch in datagen.flow_from_directory(x, batch_size = 1, \n",
    "                                                 save_to_dir = \"/root/sharedfolder/images-balance\"):\n",
    "            j += 1\n",
    "            if j >= augsize:\n",
    "                break"
   ]
  },
  {
   "cell_type": "code",
   "execution_count": 67,
   "metadata": {
    "collapsed": true
   },
   "outputs": [],
   "source": [
    "angerImg = legend.query('emotion == \"anger\"')"
   ]
  },
  {
   "cell_type": "code",
   "execution_count": 68,
   "metadata": {
    "collapsed": true
   },
   "outputs": [],
   "source": [
    "surpriseImg = legend.query('emotion == \"surprise\"')"
   ]
  },
  {
   "cell_type": "code",
   "execution_count": 69,
   "metadata": {
    "collapsed": true
   },
   "outputs": [],
   "source": [
    "disgustImg = legend.query('emotion == \"disgust\"')"
   ]
  },
  {
   "cell_type": "code",
   "execution_count": 70,
   "metadata": {
    "collapsed": true
   },
   "outputs": [],
   "source": [
    "fearImg = legend.query('emotion == \"fear\"')"
   ]
  },
  {
   "cell_type": "code",
   "execution_count": 71,
   "metadata": {
    "collapsed": true
   },
   "outputs": [],
   "source": [
    "sadnessImg = legend.query('emotion == \"sadness\"')"
   ]
  },
  {
   "cell_type": "code",
   "execution_count": 72,
   "metadata": {
    "collapsed": true
   },
   "outputs": [],
   "source": [
    "contemptImg = legend.query('emotion == \"contempt\"')"
   ]
  },
  {
   "cell_type": "code",
   "execution_count": 73,
   "metadata": {
    "collapsed": false
   },
   "outputs": [
    {
     "data": {
      "text/html": [
       "<div style=\"max-height:1000px;max-width:1500px;overflow:auto;\">\n",
       "<table border=\"1\" class=\"dataframe\">\n",
       "  <thead>\n",
       "    <tr style=\"text-align: right;\">\n",
       "      <th></th>\n",
       "      <th>user.id</th>\n",
       "      <th>image</th>\n",
       "      <th>emotion</th>\n",
       "    </tr>\n",
       "  </thead>\n",
       "  <tbody>\n",
       "    <tr>\n",
       "      <th>0  </th>\n",
       "      <td> 628</td>\n",
       "      <td> facial-expressions_2868588k.jpg</td>\n",
       "      <td> anger</td>\n",
       "    </tr>\n",
       "    <tr>\n",
       "      <th>223</th>\n",
       "      <td> 302</td>\n",
       "      <td>       Alejandro_Toledo_0004.jpg</td>\n",
       "      <td> anger</td>\n",
       "    </tr>\n",
       "    <tr>\n",
       "      <th>273</th>\n",
       "      <td> 302</td>\n",
       "      <td>   Alexander_Lukashenko_0001.jpg</td>\n",
       "      <td> anger</td>\n",
       "    </tr>\n",
       "  </tbody>\n",
       "</table>\n",
       "<p>3 rows × 3 columns</p>\n",
       "</div>"
      ],
      "text/plain": [
       "    user.id                            image emotion\n",
       "0       628  facial-expressions_2868588k.jpg   anger\n",
       "223     302        Alejandro_Toledo_0004.jpg   anger\n",
       "273     302    Alexander_Lukashenko_0001.jpg   anger\n",
       "\n",
       "[3 rows x 3 columns]"
      ]
     },
     "execution_count": 73,
     "metadata": {},
     "output_type": "execute_result"
    }
   ],
   "source": [
    "angerImg[0:3]"
   ]
  },
  {
   "cell_type": "code",
   "execution_count": 74,
   "metadata": {
    "collapsed": false
   },
   "outputs": [
    {
     "data": {
      "text/plain": [
       "'anger'"
      ]
     },
     "execution_count": 74,
     "metadata": {},
     "output_type": "execute_result"
    }
   ],
   "source": [
    "angerImg.iloc[0,2]"
   ]
  },
  {
   "cell_type": "code",
   "execution_count": 81,
   "metadata": {
    "collapsed": false
   },
   "outputs": [
    {
     "ename": "TypeError",
     "evalue": "flow() takes at least 3 arguments (4 given)",
     "output_type": "error",
     "traceback": [
      "\u001b[1;31m---------------------------------------------------------------------------\u001b[0m",
      "\u001b[1;31mTypeError\u001b[0m                                 Traceback (most recent call last)",
      "\u001b[1;32m<ipython-input-81-fd02d793eaa3>\u001b[0m in \u001b[0;36m<module>\u001b[1;34m()\u001b[0m\n\u001b[1;32m----> 1\u001b[1;33m \u001b[0mpicAugment\u001b[0m\u001b[1;33m(\u001b[0m\u001b[0mimagesDir\u001b[0m\u001b[1;33m,\u001b[0m \u001b[0mangerImg\u001b[0m\u001b[1;33m,\u001b[0m \u001b[1;36m1\u001b[0m\u001b[1;33m)\u001b[0m\u001b[1;33m\u001b[0m\u001b[0m\n\u001b[0m",
      "\u001b[1;32m<ipython-input-80-681cc1ee7f4d>\u001b[0m in \u001b[0;36mpicAugment\u001b[1;34m(inDir, emoImg, augSize)\u001b[0m\n\u001b[0;32m     18\u001b[0m         \u001b[0mj\u001b[0m \u001b[1;33m=\u001b[0m \u001b[1;36m0\u001b[0m\u001b[1;33m\u001b[0m\u001b[0m\n\u001b[0;32m     19\u001b[0m         for batch in datagen.flow(x, batch_size = 1, \n\u001b[1;32m---> 20\u001b[1;33m                                   save_to_dir = \"/root/sharedfolder/images-balance\"):\n\u001b[0m\u001b[0;32m     21\u001b[0m             \u001b[0mj\u001b[0m \u001b[1;33m+=\u001b[0m \u001b[1;36m1\u001b[0m\u001b[1;33m\u001b[0m\u001b[0m\n\u001b[0;32m     22\u001b[0m             \u001b[1;32mif\u001b[0m \u001b[0mj\u001b[0m \u001b[1;33m>=\u001b[0m \u001b[0maugsize\u001b[0m\u001b[1;33m:\u001b[0m\u001b[1;33m\u001b[0m\u001b[0m\n",
      "\u001b[1;31mTypeError\u001b[0m: flow() takes at least 3 arguments (4 given)"
     ]
    }
   ],
   "source": [
    "picAugment(imagesDir, angerImg, 1)"
   ]
  },
  {
   "cell_type": "code",
   "execution_count": null,
   "metadata": {
    "collapsed": true
   },
   "outputs": [],
   "source": []
  }
 ],
 "metadata": {
  "kernelspec": {
   "display_name": "Python 2",
   "language": "python",
   "name": "python2"
  },
  "language_info": {
   "codemirror_mode": {
    "name": "ipython",
    "version": 2
   },
   "file_extension": ".py",
   "mimetype": "text/x-python",
   "name": "python",
   "nbconvert_exporter": "python",
   "pygments_lexer": "ipython2",
   "version": "2.7.6"
  }
 },
 "nbformat": 4,
 "nbformat_minor": 0
}
